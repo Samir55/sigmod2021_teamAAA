{
 "cells": [
  {
   "cell_type": "code",
   "execution_count": 1,
   "id": "40048e9c",
   "metadata": {},
   "outputs": [],
   "source": [
    "import sys\n",
    "import py_entitymatching as em\n",
    "import pandas as pd\n",
    "import os\n",
    "import re\n",
    "import joblib"
   ]
  },
  {
   "cell_type": "code",
   "execution_count": 3,
   "id": "f2950473",
   "metadata": {},
   "outputs": [],
   "source": [
    "def preprocess_laptop_dataset(df):\n",
    "    # Alpha numeric\n",
    "    irrelevant_regex = re.compile(r'[^a-z0-9.\\-\\s]')\n",
    "    multispace_regex = re.compile(r'\\s\\s+')\n",
    "\n",
    "    for column in df.columns:\n",
    "        if column == 'instance_id':\n",
    "            continue\n",
    "        df[column] = df[column].str.lower().str.replace(irrelevant_regex, ' ').str.replace(multispace_regex, ' ')\n",
    "\n",
    "    # Count the number of nans in a certain row and remove records with more than 3 nans\n",
    "#     nans_count = df.isnull().sum(axis=1)\n",
    "#     mask = nans_count > 4\n",
    "#     print(\"removing {} records containing nans\".format(len(df[mask])))\n",
    "#     df = df[~mask]\n",
    "\n",
    "    # Brand assignment\n",
    "    all_brands = set()\n",
    "    extra_brands = set(pd.read_csv('laptops.csv').Company.str.lower().unique())\n",
    "    all_brands.update(extra_brands)\n",
    "\n",
    "    def assign_brand(record):\n",
    "        # Search in brand first\n",
    "        if record['brand'] in all_brands:\n",
    "            return record['brand']\n",
    "        # then in the title\n",
    "        for el in all_brands:\n",
    "            if el in record['title']:\n",
    "                return el\n",
    "        return \"NNN\"\n",
    "\n",
    "    df['brand'] = df.apply(assign_brand, axis=1)\n",
    "\n",
    "    # cpu brand\n",
    "    def assign_cpu_brand(record):\n",
    "        # Search in brand first\n",
    "        if 'intel' in str(record['cpu_brand']) or 'intel' in str(record['title']) or \\\n",
    "                'intel' in str(record['cpu_model']) or 'intel' in str(record['cpu_type']):\n",
    "            return 'intel'\n",
    "        return 'amd'\n",
    "\n",
    "    df['cpu_brand'] = df.apply(assign_cpu_brand, axis=1)\n",
    "\n",
    "    # cpu model\n",
    "    def assign_cpu_model(record):\n",
    "        if record['cpu_brand'] == 'intel':\n",
    "            pass\n",
    "        else:\n",
    "            pass\n",
    "\n",
    "    # ram capacity\n",
    "    def assign_ram_capacity(record):\n",
    "        s = str(record['ram_capacity']).replace(' ', '')\n",
    "        possible_vals = ['2gb', '4gb', '6gb', '8gb', '10gb', '12gb', '16gb',\n",
    "                         '32gb', '64gb', '128gb', '256gb', '512gb', '2', '4',\n",
    "                         '6', '8', '10', '12', '16', '32', '64', '128']\n",
    "        for val in possible_vals:\n",
    "            if val in s:\n",
    "                return int(val.replace('gb', ''))\n",
    "\n",
    "        s = str(record['title']).replace(' ', '')  # This will be wrong, please change\n",
    "        possible_vals = ['2gb', '4gb', '6gb', '8gb', '10gb', '12gb', '16gb',\n",
    "                         '32gb', '64gb', '128gb']\n",
    "        for val in possible_vals:\n",
    "            if val in s:\n",
    "                return int(val.replace('gb', ''))\n",
    "\n",
    "        return 0\n",
    "\n",
    "    df['ram_capacity'] = df.apply(assign_ram_capacity, axis=1)\n",
    "    \n",
    "    df = df.fillna(-999)\n",
    "\n",
    "    # Unit stand. in weight\n",
    "    return df"
   ]
  },
  {
   "cell_type": "code",
   "execution_count": 4,
   "id": "02817df7",
   "metadata": {},
   "outputs": [],
   "source": [
    "# Read the dataset / Clean / Save\n",
    "A = pd.read_csv('../data/sigmod/X2.csv')\n",
    "A = preprocess_laptop_dataset(A)\n",
    "A.to_csv('X2_cleaned.csv', index=False)"
   ]
  },
  {
   "cell_type": "code",
   "execution_count": 5,
   "id": "1ca97d96",
   "metadata": {},
   "outputs": [
    {
     "name": "stderr",
     "output_type": "stream",
     "text": [
      "Metadata file is not present in the given path; proceeding to read the csv file.\n",
      "Metadata file is not present in the given path; proceeding to read the csv file.\n"
     ]
    },
    {
     "name": "stdout",
     "output_type": "stream",
     "text": [
      "Number of tuples in A: 343\n",
      "Number of tuples in B: 343\n",
      "Number of tuples in A X B (i.e the cartesian product): 117649\n"
     ]
    }
   ],
   "source": [
    "# Reread the cleaned dataset\n",
    "A = em.read_csv_metadata('X2_cleaned.csv', key='instance_id')\n",
    "B = em.read_csv_metadata('X2_cleaned.csv', key='instance_id')\n",
    "\n",
    "print('Number of tuples in A: ' + str(len(A)))\n",
    "print('Number of tuples in B: ' + str(len(B)))\n",
    "print('Number of tuples in A X B (i.e the cartesian product): ' + str(len(A) * len(B)))"
   ]
  },
  {
   "cell_type": "code",
   "execution_count": 6,
   "id": "42572def",
   "metadata": {},
   "outputs": [
    {
     "name": "stderr",
     "output_type": "stream",
     "text": [
      "0% [##############################] 100% | ETA: 00:00:00\n",
      "Total time elapsed: 00:00:01\n"
     ]
    }
   ],
   "source": [
    "# Start running blocking\n",
    "ob = em.OverlapBlocker()\n",
    "\n",
    "C = ob.block_tables(A, B, 'title', 'title',\n",
    "                    l_output_attrs=['instance_id', 'brand', 'cpu_brand', 'cpu_model', 'cpu_type',\n",
    "                                    'cpu_frequency', 'ram_capacity', 'ram_type', 'ram_frequency',\n",
    "                                    'hdd_capacity', 'ssd_capacity', 'weight', 'dimensions', 'title'],\n",
    "                    r_output_attrs=['instance_id', 'brand', 'cpu_brand', 'cpu_model', 'cpu_type',\n",
    "                                    'cpu_frequency', 'ram_capacity', 'ram_type', 'ram_frequency',\n",
    "                                    'hdd_capacity', 'ssd_capacity', 'weight', 'dimensions', 'title'],\n",
    "                    overlap_size=1, show_progress=True, l_output_prefix='left_',\n",
    "                    r_output_prefix='right_', )"
   ]
  },
  {
   "cell_type": "code",
   "execution_count": 7,
   "id": "3f1d8390",
   "metadata": {},
   "outputs": [],
   "source": [
    "# Get features\n",
    "feature_table = em.get_features_for_matching(A, B, validate_inferred_attr_types=False)\n",
    "\n",
    "# Get the attributes to be projected while predicting\n",
    "attrs_from_table = ['left_brand',\n",
    "                    'left_cpu_brand', 'left_cpu_model', 'left_cpu_type',\n",
    "                    'left_cpu_frequency', 'left_ram_capacity', 'left_ram_type',\n",
    "                    'left_ram_frequency', 'left_hdd_capacity', 'left_ssd_capacity',\n",
    "                    'left_weight', 'left_dimensions', 'left_title', 'right_brand',\n",
    "                    'right_cpu_brand', 'right_cpu_model', 'right_cpu_type',\n",
    "                    'right_cpu_frequency', 'right_ram_capacity', 'right_ram_type',\n",
    "                    'right_ram_frequency', 'right_hdd_capacity', 'right_ssd_capacity',\n",
    "                    'right_weight', 'right_dimensions', 'right_title']\n",
    "attrs_to_be_excluded = []\n",
    "attrs_to_be_excluded.extend(['_id', 'left_instance_id', 'right_instance_id'])\n",
    "attrs_to_be_excluded.extend(attrs_from_table)"
   ]
  },
  {
   "cell_type": "code",
   "execution_count": null,
   "id": "51cdd5db",
   "metadata": {},
   "outputs": [],
   "source": [
    "# Convert the cancidate set to feature vectors using the feature table\n",
    "L = em.extract_feature_vecs(C, feature_table=feature_table,\n",
    "                            attrs_before=attrs_from_table,\n",
    "                            show_progress=True, n_jobs=-1)"
   ]
  },
  {
   "cell_type": "code",
   "execution_count": 7,
   "id": "4190b219",
   "metadata": {},
   "outputs": [],
   "source": [
    "loaded_rf = joblib.load(\"./random_forest.joblib\")"
   ]
  },
  {
   "cell_type": "code",
   "execution_count": 8,
   "id": "5df7059c",
   "metadata": {},
   "outputs": [],
   "source": [
    "# Predict the matches\n",
    "predictions = loaded_rf.predict(table=L, exclude_attrs=attrs_to_be_excluded,\n",
    "                                append=True, target_attr='predicted', inplace=False, )"
   ]
  },
  {
   "cell_type": "code",
   "execution_count": 9,
   "id": "3c2bd933",
   "metadata": {},
   "outputs": [],
   "source": [
    "# Prepare the output\n",
    "def duplicates(x):\n",
    "    return x['left_instance_id'] == x['right_instance_id']\n",
    "\n",
    "\n",
    "def prepare_sigmod_output(res):\n",
    "    ret = res[res.predicted == 1]\n",
    "    ret = ret[['left_instance_id', 'right_instance_id']]\n",
    "    ret = ret[~ret.apply(duplicates, axis=1)]\n",
    "    return ret.drop_duplicates()"
   ]
  },
  {
   "cell_type": "code",
   "execution_count": 10,
   "id": "7870a478",
   "metadata": {},
   "outputs": [],
   "source": [
    "ret = prepare_sigmod_output(predictions)"
   ]
  },
  {
   "cell_type": "code",
   "execution_count": 11,
   "id": "9a1bc073",
   "metadata": {},
   "outputs": [
    {
     "data": {
      "text/html": [
       "<div>\n",
       "<style scoped>\n",
       "    .dataframe tbody tr th:only-of-type {\n",
       "        vertical-align: middle;\n",
       "    }\n",
       "\n",
       "    .dataframe tbody tr th {\n",
       "        vertical-align: top;\n",
       "    }\n",
       "\n",
       "    .dataframe thead th {\n",
       "        text-align: right;\n",
       "    }\n",
       "</style>\n",
       "<table border=\"1\" class=\"dataframe\">\n",
       "  <thead>\n",
       "    <tr style=\"text-align: right;\">\n",
       "      <th></th>\n",
       "      <th>left_instance_id</th>\n",
       "      <th>right_instance_id</th>\n",
       "    </tr>\n",
       "  </thead>\n",
       "  <tbody>\n",
       "    <tr>\n",
       "      <th>20</th>\n",
       "      <td>www.flexshopper.com//884</td>\n",
       "      <td>www.softwarecity.ca//737</td>\n",
       "    </tr>\n",
       "    <tr>\n",
       "      <th>34</th>\n",
       "      <td>www.flexshopper.com//488</td>\n",
       "      <td>www.softwarecity.ca//737</td>\n",
       "    </tr>\n",
       "    <tr>\n",
       "      <th>40</th>\n",
       "      <td>www.tigerdirect.com//12</td>\n",
       "      <td>www.softwarecity.ca//737</td>\n",
       "    </tr>\n",
       "    <tr>\n",
       "      <th>79</th>\n",
       "      <td>buy.net//1960</td>\n",
       "      <td>www.softwarecity.ca//737</td>\n",
       "    </tr>\n",
       "    <tr>\n",
       "      <th>88</th>\n",
       "      <td>www.vology.com//80</td>\n",
       "      <td>www.softwarecity.ca//737</td>\n",
       "    </tr>\n",
       "    <tr>\n",
       "      <th>...</th>\n",
       "      <td>...</td>\n",
       "      <td>...</td>\n",
       "    </tr>\n",
       "    <tr>\n",
       "      <th>102509</th>\n",
       "      <td>www.vology.com//4484</td>\n",
       "      <td>www.vology.com//3017</td>\n",
       "    </tr>\n",
       "    <tr>\n",
       "      <th>102525</th>\n",
       "      <td>www.vology.com//105</td>\n",
       "      <td>www.vology.com//3017</td>\n",
       "    </tr>\n",
       "    <tr>\n",
       "      <th>102528</th>\n",
       "      <td>www.vology.com//1068</td>\n",
       "      <td>www.vology.com//3017</td>\n",
       "    </tr>\n",
       "    <tr>\n",
       "      <th>102543</th>\n",
       "      <td>www.vology.com//3356</td>\n",
       "      <td>www.vology.com//3017</td>\n",
       "    </tr>\n",
       "    <tr>\n",
       "      <th>102560</th>\n",
       "      <td>www.vology.com//1678</td>\n",
       "      <td>www.vology.com//3017</td>\n",
       "    </tr>\n",
       "  </tbody>\n",
       "</table>\n",
       "<p>4304 rows × 2 columns</p>\n",
       "</div>"
      ],
      "text/plain": [
       "                left_instance_id         right_instance_id\n",
       "20      www.flexshopper.com//884  www.softwarecity.ca//737\n",
       "34      www.flexshopper.com//488  www.softwarecity.ca//737\n",
       "40       www.tigerdirect.com//12  www.softwarecity.ca//737\n",
       "79                 buy.net//1960  www.softwarecity.ca//737\n",
       "88            www.vology.com//80  www.softwarecity.ca//737\n",
       "...                          ...                       ...\n",
       "102509      www.vology.com//4484      www.vology.com//3017\n",
       "102525       www.vology.com//105      www.vology.com//3017\n",
       "102528      www.vology.com//1068      www.vology.com//3017\n",
       "102543      www.vology.com//3356      www.vology.com//3017\n",
       "102560      www.vology.com//1678      www.vology.com//3017\n",
       "\n",
       "[4304 rows x 2 columns]"
      ]
     },
     "execution_count": 11,
     "metadata": {},
     "output_type": "execute_result"
    }
   ],
   "source": [
    "ret"
   ]
  },
  {
   "cell_type": "code",
   "execution_count": null,
   "id": "966107e6",
   "metadata": {},
   "outputs": [],
   "source": []
  }
 ],
 "metadata": {
  "kernelspec": {
   "display_name": "Python 3",
   "language": "python",
   "name": "python3"
  },
  "language_info": {
   "codemirror_mode": {
    "name": "ipython",
    "version": 3
   },
   "file_extension": ".py",
   "mimetype": "text/x-python",
   "name": "python",
   "nbconvert_exporter": "python",
   "pygments_lexer": "ipython3",
   "version": "3.7.10"
  }
 },
 "nbformat": 4,
 "nbformat_minor": 5
}
