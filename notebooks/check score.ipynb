{
 "cells": [
  {
   "cell_type": "code",
   "execution_count": 3,
   "metadata": {
    "ExecuteTime": {
     "end_time": "2021-04-30T16:32:32.784619Z",
     "start_time": "2021-04-30T16:32:32.782106Z"
    }
   },
   "outputs": [],
   "source": [
    "lii = \"left_instance_id\"\n",
    "rii = \"right_instance_id\"\n",
    "lbl = \"label\"\n"
   ]
  },
  {
   "cell_type": "code",
   "execution_count": 4,
   "metadata": {
    "ExecuteTime": {
     "end_time": "2021-04-30T16:32:34.155106Z",
     "start_time": "2021-04-30T16:32:34.152526Z"
    }
   },
   "outputs": [],
   "source": [
    "import pandas as pd\n",
    "from tqdm.notebook import tqdm"
   ]
  },
  {
   "cell_type": "code",
   "execution_count": 5,
   "metadata": {
    "ExecuteTime": {
     "end_time": "2021-04-30T16:33:31.052996Z",
     "start_time": "2021-04-30T16:33:30.866738Z"
    }
   },
   "outputs": [],
   "source": [
    "gold = pd.read_csv(\"../data/sigmod/Y4.csv\")\n",
    "# gold = pd.read_csv(\"Y3_1only.csv\")\n",
    "# gold = pd.read_csv(\"Y4_1only.csv\")\n",
    "x = pd.read_csv(\"../data/sigmod/X4.csv\")\n",
    "my_y_filename = \"../src/dedupe/cleaning.csv\"\n",
    "final_save_name = \"y4_with_real.csv\""
   ]
  },
  {
   "cell_type": "code",
   "execution_count": 7,
   "metadata": {
    "ExecuteTime": {
     "end_time": "2021-04-30T16:40:01.194149Z",
     "start_time": "2021-04-30T16:40:01.183315Z"
    }
   },
   "outputs": [],
   "source": [
    "mine = pd.read_csv(\"../src/dedupe/output.csv\")"
   ]
  },
  {
   "cell_type": "code",
   "execution_count": 8,
   "metadata": {
    "ExecuteTime": {
     "end_time": "2021-04-30T16:40:08.546988Z",
     "start_time": "2021-04-30T16:40:08.530545Z"
    }
   },
   "outputs": [
    {
     "data": {
      "text/html": [
       "<div>\n",
       "<style scoped>\n",
       "    .dataframe tbody tr th:only-of-type {\n",
       "        vertical-align: middle;\n",
       "    }\n",
       "\n",
       "    .dataframe tbody tr th {\n",
       "        vertical-align: top;\n",
       "    }\n",
       "\n",
       "    .dataframe thead th {\n",
       "        text-align: right;\n",
       "    }\n",
       "</style>\n",
       "<table border=\"1\" class=\"dataframe\">\n",
       "  <thead>\n",
       "    <tr style=\"text-align: right;\">\n",
       "      <th></th>\n",
       "      <th>left_instance_id</th>\n",
       "      <th>right_instance_id</th>\n",
       "    </tr>\n",
       "  </thead>\n",
       "  <tbody>\n",
       "    <tr>\n",
       "      <th>0</th>\n",
       "      <td>altosight.com//0</td>\n",
       "      <td>altosight.com//11024</td>\n",
       "    </tr>\n",
       "    <tr>\n",
       "      <th>1</th>\n",
       "      <td>altosight.com//0</td>\n",
       "      <td>altosight.com//11026</td>\n",
       "    </tr>\n",
       "    <tr>\n",
       "      <th>2</th>\n",
       "      <td>altosight.com//0</td>\n",
       "      <td>altosight.com//240</td>\n",
       "    </tr>\n",
       "    <tr>\n",
       "      <th>3</th>\n",
       "      <td>altosight.com//0</td>\n",
       "      <td>altosight.com//2534</td>\n",
       "    </tr>\n",
       "    <tr>\n",
       "      <th>4</th>\n",
       "      <td>altosight.com//0</td>\n",
       "      <td>altosight.com//3076</td>\n",
       "    </tr>\n",
       "  </tbody>\n",
       "</table>\n",
       "</div>"
      ],
      "text/plain": [
       "   left_instance_id     right_instance_id\n",
       "0  altosight.com//0  altosight.com//11024\n",
       "1  altosight.com//0  altosight.com//11026\n",
       "2  altosight.com//0    altosight.com//240\n",
       "3  altosight.com//0   altosight.com//2534\n",
       "4  altosight.com//0   altosight.com//3076"
      ]
     },
     "execution_count": 8,
     "metadata": {},
     "output_type": "execute_result"
    }
   ],
   "source": [
    "mine.head()"
   ]
  },
  {
   "cell_type": "code",
   "execution_count": 9,
   "metadata": {
    "ExecuteTime": {
     "end_time": "2021-04-30T16:40:40.316454Z",
     "start_time": "2021-04-30T16:40:11.669591Z"
    }
   },
   "outputs": [
    {
     "data": {
      "application/vnd.jupyter.widget-view+json": {
       "model_id": "d098bff03c9a460c9b64604f1539d5d9",
       "version_major": 2,
       "version_minor": 0
      },
      "text/plain": [
       "0it [00:00, ?it/s]"
      ]
     },
     "metadata": {},
     "output_type": "display_data"
    }
   ],
   "source": [
    "gold_dict = {}\n",
    "for index, row in tqdm(gold.iterrows()):\n",
    "    l, r, label = row[lii], row[rii], row[lbl]\n",
    "    if label == 0:\n",
    "        continue\n",
    "        \n",
    "    s = l + \"|\" + r\n",
    "    gold_dict[s] = 1\n",
    "#     if l not in gold_dict:\n",
    "#         gold_dict[l] = {}\n",
    "#     if r not in gold_dict[l]:\n",
    "#         gold_dict[l][r] = 1"
   ]
  },
  {
   "cell_type": "code",
   "execution_count": 10,
   "metadata": {
    "ExecuteTime": {
     "end_time": "2021-04-30T16:40:42.499731Z",
     "start_time": "2021-04-30T16:40:41.854999Z"
    },
    "scrolled": false
   },
   "outputs": [
    {
     "data": {
      "application/vnd.jupyter.widget-view+json": {
       "model_id": "56ff31f8c53a4e298ee490c210d9da80",
       "version_major": 2,
       "version_minor": 0
      },
      "text/plain": [
       "0it [00:00, ?it/s]"
      ]
     },
     "metadata": {},
     "output_type": "display_data"
    }
   ],
   "source": [
    "mine_dict = {}\n",
    "for index, row in tqdm(mine.iterrows()):\n",
    "    l, r = row[lii], row[rii]\n",
    "    s = l + \"|\" + r\n",
    "    mine_dict[s] = 1"
   ]
  },
  {
   "cell_type": "code",
   "execution_count": 11,
   "metadata": {
    "ExecuteTime": {
     "end_time": "2021-04-30T16:40:44.161569Z",
     "start_time": "2021-04-30T16:40:44.157661Z"
    },
    "scrolled": true
   },
   "outputs": [
    {
     "data": {
      "text/plain": [
       "348195"
      ]
     },
     "execution_count": 11,
     "metadata": {},
     "output_type": "execute_result"
    }
   ],
   "source": [
    "len(gold)"
   ]
  },
  {
   "cell_type": "code",
   "execution_count": 12,
   "metadata": {
    "ExecuteTime": {
     "end_time": "2021-04-30T16:40:46.223172Z",
     "start_time": "2021-04-30T16:40:46.219282Z"
    },
    "scrolled": true
   },
   "outputs": [
    {
     "data": {
      "text/plain": [
       "4082"
      ]
     },
     "execution_count": 12,
     "metadata": {},
     "output_type": "execute_result"
    }
   ],
   "source": [
    "len(gold_dict)"
   ]
  },
  {
   "cell_type": "code",
   "execution_count": 13,
   "metadata": {
    "ExecuteTime": {
     "end_time": "2021-04-30T16:40:49.866944Z",
     "start_time": "2021-04-30T16:40:49.863367Z"
    }
   },
   "outputs": [
    {
     "data": {
      "text/plain": [
       "7240"
      ]
     },
     "execution_count": 13,
     "metadata": {},
     "output_type": "execute_result"
    }
   ],
   "source": [
    "len(mine_dict)"
   ]
  },
  {
   "cell_type": "code",
   "execution_count": 14,
   "metadata": {
    "ExecuteTime": {
     "end_time": "2021-04-30T16:40:59.228787Z",
     "start_time": "2021-04-30T16:40:58.559404Z"
    }
   },
   "outputs": [
    {
     "data": {
      "application/vnd.jupyter.widget-view+json": {
       "model_id": "38e4d91df424480daf02724e9fea28f4",
       "version_major": 2,
       "version_minor": 0
      },
      "text/plain": [
       "0it [00:00, ?it/s]"
      ]
     },
     "metadata": {},
     "output_type": "display_data"
    }
   ],
   "source": [
    "false_positive = []\n",
    "for index, row in tqdm(mine.iterrows()):\n",
    "    l, r = row[lii], row[rii]\n",
    "    str1 = l + \"|\" + r\n",
    "    str2 = r + \"|\" + l\n",
    "    if str1 not in gold_dict and str2 not in gold_dict:\n",
    "        false_positive.append((l,r))"
   ]
  },
  {
   "cell_type": "code",
   "execution_count": 15,
   "metadata": {
    "ExecuteTime": {
     "end_time": "2021-04-30T16:41:00.880632Z",
     "start_time": "2021-04-30T16:41:00.876809Z"
    }
   },
   "outputs": [
    {
     "data": {
      "text/plain": [
       "3720"
      ]
     },
     "execution_count": 15,
     "metadata": {},
     "output_type": "execute_result"
    }
   ],
   "source": [
    "len(false_positive)"
   ]
  },
  {
   "cell_type": "code",
   "execution_count": 16,
   "metadata": {
    "ExecuteTime": {
     "end_time": "2021-04-30T16:41:41.726989Z",
     "start_time": "2021-04-30T16:41:13.431094Z"
    }
   },
   "outputs": [
    {
     "data": {
      "application/vnd.jupyter.widget-view+json": {
       "model_id": "b33f754c7f8248e1b407b5314ca77292",
       "version_major": 2,
       "version_minor": 0
      },
      "text/plain": [
       "0it [00:00, ?it/s]"
      ]
     },
     "metadata": {},
     "output_type": "display_data"
    }
   ],
   "source": [
    "false_negative = []\n",
    "for index, row in tqdm(gold.iterrows()):\n",
    "    l, r, label = row[lii], row[rii], row[lbl]\n",
    "    if label == 0:\n",
    "        continue\n",
    "        \n",
    "    str1 = l + \"|\" + r\n",
    "    str2 = r + \"|\" + l\n",
    "    if str1 not in mine_dict and str2 not in mine_dict:\n",
    "        false_negative.append((l,r))"
   ]
  },
  {
   "cell_type": "code",
   "execution_count": 17,
   "metadata": {
    "ExecuteTime": {
     "end_time": "2021-04-30T16:41:43.408413Z",
     "start_time": "2021-04-30T16:41:43.404618Z"
    }
   },
   "outputs": [
    {
     "data": {
      "text/plain": [
       "562"
      ]
     },
     "execution_count": 17,
     "metadata": {},
     "output_type": "execute_result"
    }
   ],
   "source": [
    "len(false_negative)"
   ]
  },
  {
   "cell_type": "code",
   "execution_count": null,
   "metadata": {},
   "outputs": [],
   "source": []
  },
  {
   "cell_type": "code",
   "execution_count": 80,
   "metadata": {
    "ExecuteTime": {
     "end_time": "2021-04-26T21:34:31.166536Z",
     "start_time": "2021-04-26T21:34:31.163804Z"
    }
   },
   "outputs": [],
   "source": [
    "# 问题：这里面的是怎么算出来的？？？\n"
   ]
  },
  {
   "cell_type": "code",
   "execution_count": 18,
   "metadata": {
    "ExecuteTime": {
     "end_time": "2021-04-30T16:41:48.414793Z",
     "start_time": "2021-04-30T16:41:48.408657Z"
    }
   },
   "outputs": [
    {
     "name": "stdout",
     "output_type": "stream",
     "text": [
      "3520 3520\n",
      "tp 3520\n",
      "fp 3720\n",
      "fn 562\n",
      "precision 0.4861878453038674\n",
      "recall 0.8623223909848113\n",
      "F1 0.6217982688570923\n"
     ]
    }
   ],
   "source": [
    "tp = len(gold_dict) - len(false_negative)\n",
    "tp2 = len(mine_dict) - len(false_positive)\n",
    "print(tp, tp2)\n",
    "\n",
    "fp = len(false_positive)\n",
    "fn = len(false_negative)\n",
    "\n",
    "precision = tp / (tp+fp)\n",
    "recall = tp / (tp+fn)\n",
    "f1 = 2 * (precision * recall) / (precision + recall)\n",
    "\n",
    "print(\"tp\",tp)\n",
    "print(\"fp\",fp)\n",
    "print(\"fn\",fn)\n",
    "print(\"precision\",precision)\n",
    "print(\"recall\", recall)\n",
    "print(\"F1\",f1)"
   ]
  },
  {
   "cell_type": "code",
   "execution_count": null,
   "metadata": {},
   "outputs": [],
   "source": []
  },
  {
   "cell_type": "code",
   "execution_count": null,
   "metadata": {},
   "outputs": [],
   "source": []
  },
  {
   "cell_type": "code",
   "execution_count": null,
   "metadata": {},
   "outputs": [],
   "source": []
  },
  {
   "cell_type": "code",
   "execution_count": null,
   "metadata": {},
   "outputs": [],
   "source": []
  },
  {
   "cell_type": "code",
   "execution_count": null,
   "metadata": {},
   "outputs": [],
   "source": []
  },
  {
   "cell_type": "code",
   "execution_count": null,
   "metadata": {},
   "outputs": [],
   "source": []
  },
  {
   "cell_type": "code",
   "execution_count": 19,
   "metadata": {
    "ExecuteTime": {
     "end_time": "2021-04-30T16:43:51.797870Z",
     "start_time": "2021-04-30T16:43:51.794159Z"
    }
   },
   "outputs": [
    {
     "data": {
      "text/plain": [
       "835"
      ]
     },
     "execution_count": 19,
     "metadata": {},
     "output_type": "execute_result"
    }
   ],
   "source": [
    "len(x)"
   ]
  },
  {
   "cell_type": "code",
   "execution_count": 274,
   "metadata": {},
   "outputs": [
    {
     "data": {
      "text/plain": [
       "58653.0"
      ]
     },
     "execution_count": 274,
     "metadata": {},
     "output_type": "execute_result"
    }
   ],
   "source": [
    "343 * 342 / 2"
   ]
  },
  {
   "cell_type": "code",
   "execution_count": null,
   "metadata": {},
   "outputs": [],
   "source": []
  },
  {
   "cell_type": "code",
   "execution_count": null,
   "metadata": {},
   "outputs": [],
   "source": []
  },
  {
   "cell_type": "code",
   "execution_count": 275,
   "metadata": {
    "scrolled": false
   },
   "outputs": [
    {
     "data": {
      "text/html": [
       "<div>\n",
       "<style scoped>\n",
       "    .dataframe tbody tr th:only-of-type {\n",
       "        vertical-align: middle;\n",
       "    }\n",
       "\n",
       "    .dataframe tbody tr th {\n",
       "        vertical-align: top;\n",
       "    }\n",
       "\n",
       "    .dataframe thead th {\n",
       "        text-align: right;\n",
       "    }\n",
       "</style>\n",
       "<table border=\"1\" class=\"dataframe\">\n",
       "  <thead>\n",
       "    <tr style=\"text-align: right;\">\n",
       "      <th></th>\n",
       "      <th>left_instance_id</th>\n",
       "      <th>right_instance_id</th>\n",
       "    </tr>\n",
       "  </thead>\n",
       "  <tbody>\n",
       "    <tr>\n",
       "      <th>0</th>\n",
       "      <td>altosight.com//0</td>\n",
       "      <td>altosight.com//2534</td>\n",
       "    </tr>\n",
       "    <tr>\n",
       "      <th>1</th>\n",
       "      <td>altosight.com//0</td>\n",
       "      <td>altosight.com//4054</td>\n",
       "    </tr>\n",
       "    <tr>\n",
       "      <th>2</th>\n",
       "      <td>altosight.com//0</td>\n",
       "      <td>altosight.com//6380</td>\n",
       "    </tr>\n",
       "    <tr>\n",
       "      <th>3</th>\n",
       "      <td>altosight.com//0</td>\n",
       "      <td>altosight.com//760</td>\n",
       "    </tr>\n",
       "    <tr>\n",
       "      <th>4</th>\n",
       "      <td>altosight.com//2534</td>\n",
       "      <td>altosight.com//4054</td>\n",
       "    </tr>\n",
       "  </tbody>\n",
       "</table>\n",
       "</div>"
      ],
      "text/plain": [
       "      left_instance_id    right_instance_id\n",
       "0     altosight.com//0  altosight.com//2534\n",
       "1     altosight.com//0  altosight.com//4054\n",
       "2     altosight.com//0  altosight.com//6380\n",
       "3     altosight.com//0   altosight.com//760\n",
       "4  altosight.com//2534  altosight.com//4054"
      ]
     },
     "execution_count": 275,
     "metadata": {},
     "output_type": "execute_result"
    }
   ],
   "source": [
    "mine.head()"
   ]
  },
  {
   "cell_type": "code",
   "execution_count": null,
   "metadata": {},
   "outputs": [],
   "source": []
  },
  {
   "cell_type": "code",
   "execution_count": 276,
   "metadata": {},
   "outputs": [],
   "source": [
    "# x_dict = {}\n",
    "# for idx, row in tqdm(x.iterrows()):\n",
    "#     obj = {\"title\": row[\"title\"]}\n",
    "#     x_dict[row[\"instance_id\"]] = obj"
   ]
  },
  {
   "cell_type": "code",
   "execution_count": 277,
   "metadata": {},
   "outputs": [],
   "source": [
    "# debug = pd.read_csv(\"debug.csv\")"
   ]
  },
  {
   "cell_type": "code",
   "execution_count": 28,
   "metadata": {
    "ExecuteTime": {
     "end_time": "2021-04-30T17:02:29.911921Z",
     "start_time": "2021-04-30T17:02:29.732880Z"
    }
   },
   "outputs": [],
   "source": [
    "import pickle\n",
    "with open(\"compute_x4.model\", \"rb\") as f:\n",
    "    debug = pickle.load(f)"
   ]
  },
  {
   "cell_type": "code",
   "execution_count": 29,
   "metadata": {
    "ExecuteTime": {
     "end_time": "2021-04-30T17:02:31.455114Z",
     "start_time": "2021-04-30T17:02:31.453081Z"
    }
   },
   "outputs": [],
   "source": [
    "# debug_dict = {}\n",
    "# for idx, row in tqdm(debug.iterrows()):\n",
    "#     obj = {\"line\": row[\"line\"], \"model\": row[\"model\"], \"brand\": row[\"brand\"], \"title\": row[\"title\"]}\n",
    "#     debug_dict[row[\"instance_id\"]] = obj"
   ]
  },
  {
   "cell_type": "code",
   "execution_count": 30,
   "metadata": {
    "ExecuteTime": {
     "end_time": "2021-04-30T17:02:31.724572Z",
     "start_time": "2021-04-30T17:02:31.682326Z"
    },
    "scrolled": false
   },
   "outputs": [
    {
     "ename": "AttributeError",
     "evalue": "'DataModel' object has no attribute 'head'",
     "output_type": "error",
     "traceback": [
      "\u001b[0;31m---------------------------------------------------------------------------\u001b[0m",
      "\u001b[0;31mAttributeError\u001b[0m                            Traceback (most recent call last)",
      "\u001b[0;32m<ipython-input-30-b6c34655fed9>\u001b[0m in \u001b[0;36m<module>\u001b[0;34m\u001b[0m\n\u001b[0;32m----> 1\u001b[0;31m \u001b[0mdebug\u001b[0m\u001b[0;34m.\u001b[0m\u001b[0mhead\u001b[0m\u001b[0;34m(\u001b[0m\u001b[0;34m)\u001b[0m\u001b[0;34m\u001b[0m\u001b[0;34m\u001b[0m\u001b[0m\n\u001b[0m",
      "\u001b[0;31mAttributeError\u001b[0m: 'DataModel' object has no attribute 'head'"
     ]
    }
   ],
   "source": [
    "debug.head()"
   ]
  },
  {
   "cell_type": "code",
   "execution_count": null,
   "metadata": {},
   "outputs": [],
   "source": []
  },
  {
   "cell_type": "code",
   "execution_count": 280,
   "metadata": {},
   "outputs": [],
   "source": [
    "debug_all_dict = debug.to_dict(\"records\")"
   ]
  },
  {
   "cell_type": "code",
   "execution_count": 281,
   "metadata": {},
   "outputs": [],
   "source": [
    "debug_all_list = debug_all_dict"
   ]
  },
  {
   "cell_type": "code",
   "execution_count": 282,
   "metadata": {},
   "outputs": [],
   "source": [
    "debug_all_dict = {}\n",
    "for item in debug_all_list:\n",
    "    debug_all_dict[item[\"instance_id\"]] = item"
   ]
  },
  {
   "cell_type": "code",
   "execution_count": null,
   "metadata": {},
   "outputs": [],
   "source": []
  },
  {
   "cell_type": "code",
   "execution_count": 283,
   "metadata": {},
   "outputs": [],
   "source": [
    "x_all_dict = x.to_dict('records')"
   ]
  },
  {
   "cell_type": "code",
   "execution_count": 284,
   "metadata": {
    "scrolled": true
   },
   "outputs": [
    {
     "data": {
      "text/plain": [
       "{'name': 'Lexar 32GB 1400x 210MB/s professional XQD memóriakártya',\n",
       " 'price': 31990.0,\n",
       " 'brand': 'LEXAR',\n",
       " 'size': '32 GB',\n",
       " 'instance_id': 'altosight.com//0'}"
      ]
     },
     "execution_count": 284,
     "metadata": {},
     "output_type": "execute_result"
    }
   ],
   "source": [
    "x_all_dict[0]"
   ]
  },
  {
   "cell_type": "code",
   "execution_count": 285,
   "metadata": {},
   "outputs": [],
   "source": [
    "x_all_list= x_all_dict"
   ]
  },
  {
   "cell_type": "code",
   "execution_count": 286,
   "metadata": {},
   "outputs": [],
   "source": [
    "x_all_dict = {}\n",
    "for item in x_all_list:\n",
    "    x_all_dict[item[\"instance_id\"]] = item"
   ]
  },
  {
   "cell_type": "code",
   "execution_count": null,
   "metadata": {},
   "outputs": [],
   "source": []
  },
  {
   "cell_type": "code",
   "execution_count": 22,
   "metadata": {
    "ExecuteTime": {
     "end_time": "2021-04-30T17:01:55.886156Z",
     "start_time": "2021-04-30T17:01:55.883772Z"
    }
   },
   "outputs": [],
   "source": [
    "from collections import Counter"
   ]
  },
  {
   "cell_type": "code",
   "execution_count": 23,
   "metadata": {
    "ExecuteTime": {
     "end_time": "2021-04-30T17:01:57.079051Z",
     "start_time": "2021-04-30T17:01:57.060640Z"
    }
   },
   "outputs": [],
   "source": [
    "all_fp_comb = []\n",
    "all_fp_counters = []\n",
    "for (l,r) in false_positive:\n",
    "    \n",
    "    found_l, found_r = -1, -1\n",
    "    for idx, cur_set in enumerate(all_fp_comb):\n",
    "        if l in cur_set:\n",
    "            found_l = idx\n",
    "        if r in cur_set:\n",
    "            found_r = idx\n",
    "    \n",
    "    if found_l == -1 and found_r == -1:\n",
    "        new_set = set()\n",
    "        new_set.add(l)\n",
    "        new_set.add(r)\n",
    "        all_fp_comb.append(new_set)\n",
    "        all_fp_counters.append(Counter([l,r]))\n",
    "    elif found_l != -1 and found_r == -1:\n",
    "        all_fp_comb[found_l].add(r)\n",
    "        all_fp_counters[found_l].update([l,r])\n",
    "    elif found_l == -1 and found_r != -1:\n",
    "        all_fp_comb[found_r].add(l)\n",
    "        all_fp_counters[found_r].update([l,r])\n",
    "        \n",
    "    else:\n",
    "        if found_l == found_r:\n",
    "            continue\n",
    "        else:\n",
    "            print(l, r, found_l, found_r)\n",
    "            raise Exception(\"wtf?\")\n",
    "        "
   ]
  },
  {
   "cell_type": "code",
   "execution_count": 24,
   "metadata": {
    "ExecuteTime": {
     "end_time": "2021-04-30T17:01:58.978731Z",
     "start_time": "2021-04-30T17:01:58.974834Z"
    }
   },
   "outputs": [
    {
     "data": {
      "text/plain": [
       "28"
      ]
     },
     "execution_count": 24,
     "metadata": {},
     "output_type": "execute_result"
    }
   ],
   "source": [
    "len(all_fp_comb)"
   ]
  },
  {
   "cell_type": "code",
   "execution_count": 25,
   "metadata": {
    "ExecuteTime": {
     "end_time": "2021-04-30T17:02:01.435866Z",
     "start_time": "2021-04-30T17:02:01.430615Z"
    },
    "scrolled": true
   },
   "outputs": [
    {
     "name": "stdout",
     "output_type": "stream",
     "text": [
      "0 50 [('altosight.com//11319', 36), ('altosight.com//12629', 14)]\n",
      "1 30 [('altosight.com//10040', 15), ('altosight.com//10450', 15)]\n",
      "2 15 [('altosight.com//12307', 10), ('altosight.com//1204', 5)]\n",
      "3 18 [('altosight.com//10449', 10), ('altosight.com//10453', 8)]\n",
      "4 10 [('altosight.com//2283', 6), ('altosight.com//12488', 4)]\n",
      "5 14 [('altosight.com//10677', 10), ('altosight.com//10448', 4)]\n",
      "6 5 [('altosight.com//3156', 4), ('altosight.com//10480', 1)]\n",
      "7 13 [('altosight.com//10451', 9), ('altosight.com//10447', 4)]\n",
      "8 4 [('altosight.com//7300', 3), ('altosight.com//2228', 1)]\n",
      "9 2 [('altosight.com//1449', 1), ('altosight.com//5550', 1)]\n",
      "10 31 [('altosight.com//1198', 19), ('altosight.com//13252', 12)]\n",
      "11 37 [('altosight.com//11165', 27), ('altosight.com//11316', 10)]\n",
      "12 16 [('altosight.com//10501', 14), ('altosight.com//10532', 2)]\n",
      "13 23 [('altosight.com//1399', 15), ('altosight.com//10508', 8)]\n",
      "14 2 [('altosight.com//13177', 1), ('altosight.com//13179', 1)]\n",
      "15 9 [('altosight.com//13208', 8), ('altosight.com//1058', 1)]\n",
      "16 34 [('altosight.com//11645', 26), ('altosight.com//11646', 8)]\n",
      "17 14 [('altosight.com//1550', 10), ('altosight.com//12243', 4)]\n",
      "18 18 [('altosight.com//12304', 14), ('altosight.com//1160', 4)]\n",
      "19 2 [('altosight.com//13306', 1), ('altosight.com//13369', 1)]\n",
      "20 35 [('altosight.com//10110', 25), ('altosight.com//10113', 10)]\n",
      "21 2 [('altosight.com//5148', 1), ('altosight.com//5665', 1)]\n",
      "22 15 [('altosight.com//12813', 9), ('altosight.com//11558', 6)]\n",
      "23 29 [('altosight.com//10102', 22), ('altosight.com//10107', 7)]\n",
      "24 3 [('altosight.com//6178', 2), ('altosight.com//1482', 1)]\n",
      "25 15 [('altosight.com//4492', 13), ('altosight.com//10922', 2)]\n",
      "26 6 [('altosight.com//10033', 3), ('altosight.com//1825', 3)]\n",
      "27 10 [('altosight.com//5873', 9), ('altosight.com//3672', 1)]\n"
     ]
    }
   ],
   "source": [
    "for idx, cluster in enumerate(all_fp_comb):\n",
    "    print(idx, len(cluster), all_fp_counters[idx].most_common(2))"
   ]
  },
  {
   "cell_type": "code",
   "execution_count": null,
   "metadata": {},
   "outputs": [],
   "source": []
  },
  {
   "cell_type": "code",
   "execution_count": null,
   "metadata": {},
   "outputs": [],
   "source": []
  },
  {
   "cell_type": "code",
   "execution_count": null,
   "metadata": {},
   "outputs": [],
   "source": []
  },
  {
   "cell_type": "code",
   "execution_count": null,
   "metadata": {},
   "outputs": [],
   "source": []
  },
  {
   "cell_type": "code",
   "execution_count": null,
   "metadata": {},
   "outputs": [],
   "source": []
  },
  {
   "cell_type": "code",
   "execution_count": null,
   "metadata": {},
   "outputs": [],
   "source": []
  },
  {
   "cell_type": "code",
   "execution_count": null,
   "metadata": {},
   "outputs": [],
   "source": []
  },
  {
   "cell_type": "code",
   "execution_count": null,
   "metadata": {},
   "outputs": [],
   "source": []
  },
  {
   "cell_type": "code",
   "execution_count": 26,
   "metadata": {
    "ExecuteTime": {
     "end_time": "2021-04-30T17:02:06.252086Z",
     "start_time": "2021-04-30T17:02:06.241435Z"
    }
   },
   "outputs": [
    {
     "ename": "NameError",
     "evalue": "name 'debug_all_dict' is not defined",
     "output_type": "error",
     "traceback": [
      "\u001b[0;31m---------------------------------------------------------------------------\u001b[0m",
      "\u001b[0;31mNameError\u001b[0m                                 Traceback (most recent call last)",
      "\u001b[0;32m<ipython-input-26-055980d48d15>\u001b[0m in \u001b[0;36m<module>\u001b[0;34m\u001b[0m\n\u001b[1;32m     14\u001b[0m     \u001b[0mobj\u001b[0m\u001b[0;34m[\u001b[0m\u001b[0;34m\"left_cluster_id\"\u001b[0m\u001b[0;34m]\u001b[0m \u001b[0;34m=\u001b[0m \u001b[0mfound_l\u001b[0m\u001b[0;34m\u001b[0m\u001b[0;34m\u001b[0m\u001b[0m\n\u001b[1;32m     15\u001b[0m     \u001b[0mobj\u001b[0m\u001b[0;34m[\u001b[0m\u001b[0;34m\"right_cluster_id\"\u001b[0m\u001b[0;34m]\u001b[0m \u001b[0;34m=\u001b[0m \u001b[0mfound_r\u001b[0m\u001b[0;34m\u001b[0m\u001b[0;34m\u001b[0m\u001b[0m\n\u001b[0;32m---> 16\u001b[0;31m     \u001b[0;32mfor\u001b[0m \u001b[0mk\u001b[0m\u001b[0;34m,\u001b[0m\u001b[0mv\u001b[0m \u001b[0;32min\u001b[0m \u001b[0mdebug_all_dict\u001b[0m\u001b[0;34m[\u001b[0m\u001b[0ml\u001b[0m\u001b[0;34m]\u001b[0m\u001b[0;34m.\u001b[0m\u001b[0mitems\u001b[0m\u001b[0;34m(\u001b[0m\u001b[0;34m)\u001b[0m\u001b[0;34m:\u001b[0m\u001b[0;34m\u001b[0m\u001b[0;34m\u001b[0m\u001b[0m\n\u001b[0m\u001b[1;32m     17\u001b[0m         \u001b[0mobj\u001b[0m\u001b[0;34m[\u001b[0m\u001b[0;34m\"left_\"\u001b[0m \u001b[0;34m+\u001b[0m \u001b[0mk\u001b[0m\u001b[0;34m]\u001b[0m \u001b[0;34m=\u001b[0m \u001b[0mv\u001b[0m\u001b[0;34m\u001b[0m\u001b[0;34m\u001b[0m\u001b[0m\n\u001b[1;32m     18\u001b[0m     \u001b[0;32mfor\u001b[0m \u001b[0mk\u001b[0m\u001b[0;34m,\u001b[0m\u001b[0mv\u001b[0m \u001b[0;32min\u001b[0m \u001b[0mdebug_all_dict\u001b[0m\u001b[0;34m[\u001b[0m\u001b[0ml\u001b[0m\u001b[0;34m]\u001b[0m\u001b[0;34m.\u001b[0m\u001b[0mitems\u001b[0m\u001b[0;34m(\u001b[0m\u001b[0;34m)\u001b[0m\u001b[0;34m:\u001b[0m\u001b[0;34m\u001b[0m\u001b[0;34m\u001b[0m\u001b[0m\n",
      "\u001b[0;31mNameError\u001b[0m: name 'debug_all_dict' is not defined"
     ]
    }
   ],
   "source": [
    "fp_dict = []\n",
    "for (l,r) in false_positive:\n",
    "    obj = {}\n",
    "    obj[\"left\"] = l\n",
    "    obj[\"right\"] = r\n",
    "    \n",
    "    found_l = -1\n",
    "    found_r = -1\n",
    "    for idx, cur_set in enumerate(all_fp_comb):\n",
    "        if l in cur_set:\n",
    "            found_l = idx\n",
    "        if r in cur_set:\n",
    "            found_r = idx\n",
    "    obj[\"left_cluster_id\"] = found_l\n",
    "    obj[\"right_cluster_id\"] = found_r\n",
    "    for k,v in debug_all_dict[l].items():\n",
    "        obj[\"left_\" + k] = v\n",
    "    for k,v in debug_all_dict[l].items():\n",
    "        obj[\"left_all_\" + k] = v\n",
    "    for k,v in debug_all_dict[r].items():\n",
    "        obj[\"right_\" + k] = v\n",
    "    for k,v in debug_all_dict[r].items():\n",
    "        obj[\"right_all_\" + k] = v\n",
    "    fp_dict.append(obj)"
   ]
  },
  {
   "cell_type": "code",
   "execution_count": 20,
   "metadata": {
    "ExecuteTime": {
     "end_time": "2021-04-30T16:59:55.624850Z",
     "start_time": "2021-04-30T16:59:55.432222Z"
    },
    "scrolled": false
   },
   "outputs": [
    {
     "ename": "NameError",
     "evalue": "name 'fp_dict' is not defined",
     "output_type": "error",
     "traceback": [
      "\u001b[0;31m---------------------------------------------------------------------------\u001b[0m",
      "\u001b[0;31mNameError\u001b[0m                                 Traceback (most recent call last)",
      "\u001b[0;32m<ipython-input-20-32a8a9156196>\u001b[0m in \u001b[0;36m<module>\u001b[0;34m\u001b[0m\n\u001b[0;32m----> 1\u001b[0;31m \u001b[0mfp_dict\u001b[0m\u001b[0;34m[\u001b[0m\u001b[0;36m1\u001b[0m\u001b[0;34m]\u001b[0m\u001b[0;34m\u001b[0m\u001b[0;34m\u001b[0m\u001b[0m\n\u001b[0m",
      "\u001b[0;31mNameError\u001b[0m: name 'fp_dict' is not defined"
     ]
    }
   ],
   "source": [
    "fp_dict[1]"
   ]
  },
  {
   "cell_type": "code",
   "execution_count": null,
   "metadata": {},
   "outputs": [],
   "source": []
  },
  {
   "cell_type": "code",
   "execution_count": null,
   "metadata": {},
   "outputs": [],
   "source": []
  },
  {
   "cell_type": "code",
   "execution_count": null,
   "metadata": {},
   "outputs": [],
   "source": []
  },
  {
   "cell_type": "code",
   "execution_count": null,
   "metadata": {},
   "outputs": [],
   "source": []
  },
  {
   "cell_type": "code",
   "execution_count": null,
   "metadata": {},
   "outputs": [],
   "source": []
  },
  {
   "cell_type": "code",
   "execution_count": 293,
   "metadata": {},
   "outputs": [],
   "source": [
    "last_id = \"\"\n",
    "split_points = []\n",
    "for idx, item in enumerate(fp_dict):\n",
    "    if item[\"left_cluster_id\"] != last_id:\n",
    "        split_points.append(idx)\n",
    "        last_id = item[\"left_cluster_id\"]"
   ]
  },
  {
   "cell_type": "code",
   "execution_count": 294,
   "metadata": {},
   "outputs": [
    {
     "data": {
      "text/plain": [
       "[0,\n",
       " 25,\n",
       " 46,\n",
       " 67,\n",
       " 84,\n",
       " 88,\n",
       " 91,\n",
       " 101,\n",
       " 131,\n",
       " 141,\n",
       " 154,\n",
       " 182,\n",
       " 197,\n",
       " 217,\n",
       " 225,\n",
       " 351,\n",
       " 411,\n",
       " 628,\n",
       " 673,\n",
       " 679,\n",
       " 864,\n",
       " 865,\n",
       " 874]"
      ]
     },
     "execution_count": 294,
     "metadata": {},
     "output_type": "execute_result"
    }
   ],
   "source": [
    "split_points"
   ]
  },
  {
   "cell_type": "code",
   "execution_count": null,
   "metadata": {},
   "outputs": [],
   "source": []
  },
  {
   "cell_type": "code",
   "execution_count": 295,
   "metadata": {},
   "outputs": [],
   "source": [
    "import json"
   ]
  },
  {
   "cell_type": "code",
   "execution_count": 296,
   "metadata": {},
   "outputs": [],
   "source": [
    "with open(\"false_positive.json\",\"w\", encoding=\"utf8\") as f:\n",
    "    json.dump(fp_dict, f)"
   ]
  },
  {
   "cell_type": "code",
   "execution_count": null,
   "metadata": {},
   "outputs": [],
   "source": []
  },
  {
   "cell_type": "code",
   "execution_count": null,
   "metadata": {},
   "outputs": [],
   "source": []
  },
  {
   "cell_type": "code",
   "execution_count": null,
   "metadata": {},
   "outputs": [],
   "source": []
  },
  {
   "cell_type": "code",
   "execution_count": 297,
   "metadata": {},
   "outputs": [],
   "source": [
    "fn_dict = []\n",
    "for (l,r) in false_negative:\n",
    "    obj = {}\n",
    "    obj[\"left\"] = l\n",
    "    obj[\"right\"] = r\n",
    "    for k,v in debug_all_dict[l].items():\n",
    "        obj[\"left_\" + k] = v\n",
    "    for k,v in x_all_dict[l].items():\n",
    "        obj[\"left_all_\" + k] = v\n",
    "    for k,v in debug_all_dict[r].items():\n",
    "        obj[\"right_\" + k] = v\n",
    "    for k,v in x_all_dict[r].items():\n",
    "        obj[\"right_all_\" + k] = v\n",
    "    fn_dict.append(obj)"
   ]
  },
  {
   "cell_type": "code",
   "execution_count": null,
   "metadata": {},
   "outputs": [],
   "source": []
  },
  {
   "cell_type": "code",
   "execution_count": 298,
   "metadata": {},
   "outputs": [],
   "source": [
    "from collections import Counter"
   ]
  },
  {
   "cell_type": "code",
   "execution_count": 299,
   "metadata": {},
   "outputs": [
    {
     "data": {
      "text/plain": [
       "Counter({'sandisk': 161,\n",
       "         'sony': 82,\n",
       "         'lexar': 23,\n",
       "         'intenso': 28,\n",
       "         'kingston': 43,\n",
       "         'toshiba': 534,\n",
       "         'samsung': 9})"
      ]
     },
     "execution_count": 299,
     "metadata": {},
     "output_type": "execute_result"
    }
   ],
   "source": [
    "Counter([item[\"left_brand\"] for item in fp_dict])"
   ]
  },
  {
   "cell_type": "code",
   "execution_count": 300,
   "metadata": {},
   "outputs": [
    {
     "data": {
      "text/plain": [
       "Counter({'extreme': 94,\n",
       "         nan: 146,\n",
       "         'ultra plus': 12,\n",
       "         'ultra': 30,\n",
       "         'dual drive': 2,\n",
       "         'glide': 1,\n",
       "         'performance': 1,\n",
       "         'essential': 3,\n",
       "         'jumpdrive': 22,\n",
       "         'speed line': 22,\n",
       "         'premium line': 6,\n",
       "         'ultimate': 10,\n",
       "         'datatraveler': 8,\n",
       "         'exceria pro': 413,\n",
       "         'exceria': 97,\n",
       "         'pendrive': 6,\n",
       "         'microvault': 7})"
      ]
     },
     "execution_count": 300,
     "metadata": {},
     "output_type": "execute_result"
    }
   ],
   "source": [
    "Counter([item[\"left_line\"] for item in fp_dict])"
   ]
  },
  {
   "cell_type": "code",
   "execution_count": 301,
   "metadata": {},
   "outputs": [
    {
     "data": {
      "text/plain": [
       "Counter({'lexar': 122,\n",
       "         'sandisk': 151,\n",
       "         'pny': 58,\n",
       "         'sony': 84,\n",
       "         'samsung': 27,\n",
       "         'intenso': 14,\n",
       "         'kingston': 53,\n",
       "         'toshiba': 73,\n",
       "         'transcend': 8})"
      ]
     },
     "execution_count": 301,
     "metadata": {},
     "output_type": "execute_result"
    }
   ],
   "source": [
    "Counter([item[\"left_brand\"] for item in fn_dict])"
   ]
  },
  {
   "cell_type": "code",
   "execution_count": 302,
   "metadata": {},
   "outputs": [
    {
     "data": {
      "text/plain": [
       "Counter({'xqd': 49,\n",
       "         'dual drive': 6,\n",
       "         'ultra performance': 9,\n",
       "         'ultra plus': 10,\n",
       "         'attache': 38,\n",
       "         nan: 74,\n",
       "         'premium': 16,\n",
       "         'evo plus': 4,\n",
       "         'basic line': 11,\n",
       "         'datatraveler': 14,\n",
       "         'jumpdrive': 46,\n",
       "         'extreme': 63,\n",
       "         'ultra': 34,\n",
       "         'hyperx savage': 11,\n",
       "         'exceria': 40,\n",
       "         'cruzer': 4,\n",
       "         'ultimate': 3,\n",
       "         'pendrive': 36,\n",
       "         'cruzer glide': 33,\n",
       "         'galaxy': 23,\n",
       "         'exceria pro': 21,\n",
       "         'transmemory': 5,\n",
       "         'microvault': 32,\n",
       "         'platinum': 4,\n",
       "         'hyperx': 2,\n",
       "         'essential': 2})"
      ]
     },
     "execution_count": 302,
     "metadata": {},
     "output_type": "execute_result"
    }
   ],
   "source": [
    "Counter([item[\"left_line\"] for item in fn_dict])"
   ]
  },
  {
   "cell_type": "code",
   "execution_count": 303,
   "metadata": {},
   "outputs": [
    {
     "data": {
      "text/plain": [
       "dict_keys(['left', 'right', 'left_cluster_id', 'right_cluster_id', 'left_type', 'left_uhs', 'left_line', 'left_mymodel', 'left_micro', 'left_video_speed', 'left_usb_speed', 'left_name', 'left_price', 'left_brand', 'left_size', 'left_instance_id', 'left_all_type', 'left_all_uhs', 'left_all_line', 'left_all_mymodel', 'left_all_micro', 'left_all_video_speed', 'left_all_usb_speed', 'left_all_name', 'left_all_price', 'left_all_brand', 'left_all_size', 'left_all_instance_id', 'right_type', 'right_uhs', 'right_line', 'right_mymodel', 'right_micro', 'right_video_speed', 'right_usb_speed', 'right_name', 'right_price', 'right_brand', 'right_size', 'right_instance_id', 'right_all_type', 'right_all_uhs', 'right_all_line', 'right_all_mymodel', 'right_all_micro', 'right_all_video_speed', 'right_all_usb_speed', 'right_all_name', 'right_all_price', 'right_all_brand', 'right_all_size', 'right_all_instance_id'])"
      ]
     },
     "execution_count": 303,
     "metadata": {},
     "output_type": "execute_result"
    }
   ],
   "source": [
    "fp_dict[0].keys()"
   ]
  },
  {
   "cell_type": "code",
   "execution_count": 304,
   "metadata": {},
   "outputs": [],
   "source": [
    "import csv"
   ]
  },
  {
   "cell_type": "code",
   "execution_count": 305,
   "metadata": {},
   "outputs": [],
   "source": [
    "with open(\"fp.csv\",\"w\",encoding=\"utf8\") as f:\n",
    "    d = fp_dict\n",
    "    csv_writer = csv.DictWriter(f, list(d[0].keys()))\n",
    "    csv_writer.writeheader()\n",
    "    csv_writer.writerows(d)"
   ]
  },
  {
   "cell_type": "code",
   "execution_count": 306,
   "metadata": {},
   "outputs": [],
   "source": [
    "with open(\"fn.csv\",\"w\",encoding=\"utf8\") as f:\n",
    "    d = fn_dict\n",
    "    csv_writer = csv.DictWriter(f, list(d[0].keys()))\n",
    "    csv_writer.writeheader()\n",
    "    csv_writer.writerows(d)"
   ]
  },
  {
   "cell_type": "code",
   "execution_count": null,
   "metadata": {},
   "outputs": [],
   "source": []
  },
  {
   "cell_type": "code",
   "execution_count": 307,
   "metadata": {},
   "outputs": [
    {
     "data": {
      "text/plain": [
       "835"
      ]
     },
     "execution_count": 307,
     "metadata": {},
     "output_type": "execute_result"
    }
   ],
   "source": [
    "len(x)"
   ]
  },
  {
   "cell_type": "code",
   "execution_count": 308,
   "metadata": {},
   "outputs": [],
   "source": [
    "# 尝试构建原始集合"
   ]
  },
  {
   "cell_type": "code",
   "execution_count": 309,
   "metadata": {},
   "outputs": [
    {
     "data": {
      "application/vnd.jupyter.widget-view+json": {
       "model_id": "f12bad7798934cb39374df3ee97bb0fc",
       "version_major": 2,
       "version_minor": 0
      },
      "text/plain": [
       "HBox(children=(HTML(value=''), FloatProgress(value=1.0, bar_style='info', layout=Layout(width='20px'), max=1.0…"
      ]
     },
     "metadata": {},
     "output_type": "display_data"
    },
    {
     "name": "stdout",
     "output_type": "stream",
     "text": [
      "\n"
     ]
    }
   ],
   "source": [
    "all_real_comb = []\n",
    "counter = 0\n",
    "for index, row in tqdm(gold.iterrows()):\n",
    "    l, r, label = row[lii], row[rii], row[lbl]\n",
    "    if label == 0:\n",
    "        continue\n",
    "    \n",
    "    counter += 1\n",
    "    found_l, found_r = -1, -1\n",
    "    for idx, cur_set in enumerate(all_real_comb):\n",
    "        if l in cur_set:\n",
    "            found_l = idx\n",
    "        if r in cur_set:\n",
    "            found_r = idx\n",
    "    \n",
    "    if found_l == -1 and found_r == -1:\n",
    "        new_set = set()\n",
    "        new_set.add(l)\n",
    "        new_set.add(r)\n",
    "        all_real_comb.append(new_set)\n",
    "    elif found_l != -1 and found_r == -1:\n",
    "        all_real_comb[found_l].add(r)\n",
    "    elif found_l == -1 and found_r != -1:\n",
    "        all_real_comb[found_r].add(l)     \n",
    "    else:\n",
    "        if found_l == found_r:\n",
    "            continue\n",
    "        else:\n",
    "            lset = all_real_comb[found_l]\n",
    "            rset = all_real_comb[found_r]\n",
    "            all_real_comb[found_l]= lset.union(rset)\n",
    "            all_real_comb[found_r]=set()\n",
    "            \n",
    "            print(l, r, found_l, found_r)\n",
    "#             raise Exception(\"wtf?\")\n",
    "        "
   ]
  },
  {
   "cell_type": "code",
   "execution_count": 310,
   "metadata": {},
   "outputs": [
    {
     "data": {
      "text/plain": [
       "0"
      ]
     },
     "execution_count": 310,
     "metadata": {},
     "output_type": "execute_result"
    }
   ],
   "source": [
    "len([i for i in all_real_comb if len(i) == 0])"
   ]
  },
  {
   "cell_type": "code",
   "execution_count": 311,
   "metadata": {},
   "outputs": [
    {
     "data": {
      "text/plain": [
       "812"
      ]
     },
     "execution_count": 311,
     "metadata": {},
     "output_type": "execute_result"
    }
   ],
   "source": [
    "sum([len(i) for i in all_real_comb])"
   ]
  },
  {
   "cell_type": "code",
   "execution_count": 312,
   "metadata": {},
   "outputs": [
    {
     "data": {
      "text/plain": [
       "4440.0"
      ]
     },
     "execution_count": 312,
     "metadata": {},
     "output_type": "execute_result"
    }
   ],
   "source": [
    "sum([(len(i)*len(i)-1)/2 for i in all_real_comb])"
   ]
  },
  {
   "cell_type": "code",
   "execution_count": 313,
   "metadata": {},
   "outputs": [],
   "source": [
    "check_dict = {}\n",
    "for cur_set in all_real_comb:\n",
    "    for item in cur_set:\n",
    "        check_dict[item] = 1"
   ]
  },
  {
   "cell_type": "code",
   "execution_count": 314,
   "metadata": {},
   "outputs": [
    {
     "name": "stdout",
     "output_type": "stream",
     "text": [
      "altosight.com//1449\n",
      "altosight.com//1521\n",
      "altosight.com//1575\n",
      "altosight.com//3101\n",
      "altosight.com//3107\n",
      "altosight.com//3111\n",
      "altosight.com//3116\n",
      "altosight.com//3117\n",
      "altosight.com//3119\n",
      "altosight.com//4909\n",
      "altosight.com//5535\n",
      "altosight.com//5668\n",
      "altosight.com//5873\n",
      "altosight.com//7815\n",
      "altosight.com//7934\n",
      "altosight.com//9058\n",
      "altosight.com//12390\n",
      "altosight.com//12391\n",
      "altosight.com//12421\n",
      "altosight.com//13208\n",
      "altosight.com//13306\n",
      "altosight.com//13369\n",
      "altosight.com//13640\n"
     ]
    }
   ],
   "source": [
    "for item in x_all_list:\n",
    "    if item[\"instance_id\"] not in check_dict:\n",
    "        print(item[\"instance_id\"])"
   ]
  },
  {
   "cell_type": "code",
   "execution_count": null,
   "metadata": {},
   "outputs": [],
   "source": []
  },
  {
   "cell_type": "code",
   "execution_count": null,
   "metadata": {},
   "outputs": [],
   "source": []
  },
  {
   "cell_type": "code",
   "execution_count": null,
   "metadata": {},
   "outputs": [],
   "source": []
  },
  {
   "cell_type": "code",
   "execution_count": 315,
   "metadata": {},
   "outputs": [],
   "source": [
    "from itertools import permutations, combinations"
   ]
  },
  {
   "cell_type": "code",
   "execution_count": 316,
   "metadata": {},
   "outputs": [],
   "source": [
    "\n",
    "for idx, cur_set in enumerate(all_real_comb):\n",
    "    if len(cur_set) == 0:\n",
    "        continue\n",
    "    for cb in combinations(list(cur_set), 2):\n",
    "        l, r = cb[0], cb[1]\n",
    "        s1 = l + \"|\" + r\n",
    "        s2 = r + \"|\" + l\n",
    "        if s1 not in gold_dict and s2 not in gold_dict:\n",
    "            print(idx, cb)"
   ]
  },
  {
   "cell_type": "code",
   "execution_count": 317,
   "metadata": {},
   "outputs": [],
   "source": [
    "truth_li = []\n",
    "truth_dict = {}\n",
    "for idx, cur_set in enumerate(all_real_comb):\n",
    "    if len(cur_set) == 0:\n",
    "        continue\n",
    "    for instance_id in cur_set:\n",
    "        obj = debug_all_dict[instance_id]\n",
    "        obj[\"real_cluster\"] = idx\n",
    "        truth_dict[instance_id] = idx\n",
    "        truth_li.append(obj)"
   ]
  },
  {
   "cell_type": "code",
   "execution_count": 318,
   "metadata": {
    "scrolled": false
   },
   "outputs": [
    {
     "data": {
      "text/plain": [
       "{'type': nan,\n",
       " 'uhs': nan,\n",
       " 'line': 'xqd',\n",
       " 'mymodel': 'd32g',\n",
       " 'micro': 'not micro',\n",
       " 'video_speed': 'u1',\n",
       " 'usb_speed': nan,\n",
       " 'name': 'lexar lxqd32gcrbeu1400 - tarjeta de memoria de 32 gb',\n",
       " 'price': nan,\n",
       " 'brand': 'lexar',\n",
       " 'size': '32 gb',\n",
       " 'instance_id': 'altosight.com//5257',\n",
       " 'real_cluster': 0}"
      ]
     },
     "execution_count": 318,
     "metadata": {},
     "output_type": "execute_result"
    }
   ],
   "source": [
    "truth_li[0]"
   ]
  },
  {
   "cell_type": "code",
   "execution_count": 319,
   "metadata": {},
   "outputs": [],
   "source": [
    "key_li = list(truth_li[0].keys())\n",
    "key_li.remove(\"instance_id\")\n",
    "key_li.remove(\"real_cluster\")\n",
    "key_li = [\"real_cluster\", \"instance_id\"] + key_li"
   ]
  },
  {
   "cell_type": "code",
   "execution_count": 320,
   "metadata": {},
   "outputs": [],
   "source": [
    "with open(\"real.csv\",\"w\",encoding=\"utf8\") as f:\n",
    "    d = truth_li\n",
    "    csv_writer = csv.DictWriter(f, key_li)\n",
    "    csv_writer.writeheader()\n",
    "    csv_writer.writerows(d)"
   ]
  },
  {
   "cell_type": "code",
   "execution_count": null,
   "metadata": {},
   "outputs": [],
   "source": []
  },
  {
   "cell_type": "code",
   "execution_count": 321,
   "metadata": {},
   "outputs": [
    {
     "data": {
      "text/plain": [
       "812"
      ]
     },
     "execution_count": 321,
     "metadata": {},
     "output_type": "execute_result"
    }
   ],
   "source": [
    "len(truth_dict)"
   ]
  },
  {
   "cell_type": "code",
   "execution_count": null,
   "metadata": {},
   "outputs": [],
   "source": []
  },
  {
   "cell_type": "code",
   "execution_count": 322,
   "metadata": {},
   "outputs": [],
   "source": [
    "my_y = pd.read_csv(my_y_filename)"
   ]
  },
  {
   "cell_type": "code",
   "execution_count": 323,
   "metadata": {},
   "outputs": [],
   "source": [
    "my_y_list = my_y.to_dict(\"records\")"
   ]
  },
  {
   "cell_type": "code",
   "execution_count": 324,
   "metadata": {
    "scrolled": false
   },
   "outputs": [
    {
     "data": {
      "text/plain": [
       "{'Cluster ID': 0,\n",
       " 'confidence_score': 0.9139723079284252,\n",
       " 'type': nan,\n",
       " 'uhs': nan,\n",
       " 'line': 'xqd',\n",
       " 'mymodel': '1400x',\n",
       " 'micro': 'not micro',\n",
       " 'video_speed': nan,\n",
       " 'usb_speed': nan,\n",
       " 'name': 'lexar 32gb 1400x 210mb/s professional xqd memoriakartya',\n",
       " 'price': 31990.0,\n",
       " 'brand': 'lexar',\n",
       " 'size': '32 gb',\n",
       " 'instance_id': 'altosight.com//0'}"
      ]
     },
     "execution_count": 324,
     "metadata": {},
     "output_type": "execute_result"
    }
   ],
   "source": [
    "my_y_list[0]"
   ]
  },
  {
   "cell_type": "code",
   "execution_count": null,
   "metadata": {},
   "outputs": [],
   "source": []
  },
  {
   "cell_type": "code",
   "execution_count": 325,
   "metadata": {},
   "outputs": [],
   "source": [
    "for item in my_y_list:\n",
    "    if item[\"instance_id\"]==\"source0__17878\":\n",
    "        print(item)"
   ]
  },
  {
   "cell_type": "code",
   "execution_count": null,
   "metadata": {},
   "outputs": [],
   "source": []
  },
  {
   "cell_type": "code",
   "execution_count": null,
   "metadata": {},
   "outputs": [],
   "source": []
  },
  {
   "cell_type": "code",
   "execution_count": 326,
   "metadata": {},
   "outputs": [],
   "source": [
    "for item in my_y_list:\n",
    "    if item[\"instance_id\"] in truth_dict:\n",
    "        item[\"real\"] = truth_dict[item[\"instance_id\"]]\n",
    "    else:\n",
    "        item[\"real\"] = -1"
   ]
  },
  {
   "cell_type": "code",
   "execution_count": 327,
   "metadata": {},
   "outputs": [],
   "source": [
    "iid_to_cluster_id = {}\n",
    "iid_to_real_id = {}\n",
    "real_id_iids = {}\n",
    "cluster_id_iids = {}\n",
    "\n",
    "for item in my_y_list:\n",
    "    iid, cluster_id, real_id = item[\"instance_id\"], item[\"Cluster ID\"], item[\"real\"]\n",
    "    iid_to_cluster_id[iid] = cluster_id\n",
    "    iid_to_real_id[iid] = real_id\n",
    "    \n",
    "    if real_id not in real_id_iids:\n",
    "        real_id_iids[real_id] = []\n",
    "    real_id_iids[real_id].append(iid)\n",
    "    \n",
    "    if cluster_id not in cluster_id_iids:\n",
    "        cluster_id_iids[cluster_id] = []\n",
    "    cluster_id_iids[cluster_id].append(iid)"
   ]
  },
  {
   "cell_type": "code",
   "execution_count": 328,
   "metadata": {},
   "outputs": [],
   "source": [
    "from itertools import permutations, combinations"
   ]
  },
  {
   "cell_type": "code",
   "execution_count": 329,
   "metadata": {},
   "outputs": [],
   "source": [
    "for item in my_y_list:\n",
    "    iid, cluster_id, real_id = item[\"instance_id\"], item[\"Cluster ID\"], item[\"real\"]\n",
    "    \n",
    "    if item[\"real\"] != -1:\n",
    "        #print(real_id_iids[item[\"real\"]])\n",
    "        total_count = 0\n",
    "        total_found = 0\n",
    "        for cb in combinations(real_id_iids[real_id], 2):\n",
    "            total_count += 1\n",
    "            if cb[0] +\"|\" + cb[1] in mine_dict or cb[1]+\"|\"+cb[0] in mine_dict:\n",
    "                total_found += 1\n",
    "                \n",
    "        #print(total_count)\n",
    "        #print(total_found)\n",
    "        #print(total_count - total_found)\n",
    "        item[\"r1_total\"] = total_count\n",
    "        item[\"r1_found\"] = total_found\n",
    "        item[\"r1_fn_missing\"] = total_count - total_found\n",
    "    else:\n",
    "        item[\"r1_total\"] = -1\n",
    "        item[\"r1_found\"] = -1\n",
    "        item[\"r1_fn_missing\"] = -1\n",
    "        \n",
    "    if cluster_id != -1:\n",
    "        total_count = 0\n",
    "        total_real = 0\n",
    "        for cb in combinations(cluster_id_iids[cluster_id], 2):\n",
    "            total_count += 1\n",
    "            if cb[0]+\"|\"+cb[1] in gold_dict or cb[1]+\"|\"+cb[0] in gold_dict:\n",
    "                total_real += 1\n",
    "        item[\"r2_total\"] = total_count\n",
    "        item[\"r2_real\"] = total_real\n",
    "        item[\"r2_fp_extra\"] = total_count - total_real\n",
    "    else:\n",
    "        item[\"r2_total\"] = -1\n",
    "        item[\"r2_real\"] = -1\n",
    "        item[\"r2_fp_extra\"] = -1\n",
    "\n",
    "    \n",
    "\n",
    "    \n",
    "    c1 = Counter([i[\"Cluster ID\"] for i in my_y_list if i[\"real\"]==item[\"real\"]])\n",
    "    c2 = Counter([i[\"real\"] for i in my_y_list if i[\"Cluster ID\"]==item[\"Cluster ID\"]])\n",
    "    \n",
    "#     print(item)\n",
    "    item[\"r1\"] = str(dict(c1.most_common()))\n",
    "    item[\"r2\"] = str(dict(c2.most_common()))\n",
    "    \n"
   ]
  },
  {
   "cell_type": "code",
   "execution_count": 330,
   "metadata": {},
   "outputs": [
    {
     "data": {
      "text/plain": [
       "[57]"
      ]
     },
     "execution_count": 330,
     "metadata": {},
     "output_type": "execute_result"
    }
   ],
   "source": [
    "list(c1)"
   ]
  },
  {
   "cell_type": "code",
   "execution_count": null,
   "metadata": {},
   "outputs": [],
   "source": []
  },
  {
   "cell_type": "code",
   "execution_count": null,
   "metadata": {},
   "outputs": [],
   "source": []
  },
  {
   "cell_type": "code",
   "execution_count": 331,
   "metadata": {},
   "outputs": [],
   "source": [
    "key_li = list(item.keys())\n",
    "key_li.remove(\"real\")\n",
    "key_li.remove(\"instance_id\")\n",
    "key_li.remove(\"Cluster ID\")\n",
    "key_li.remove(\"r1\")\n",
    "key_li.remove(\"r2\")\n",
    "for k in [\"r1_total\", \"r1_found\", \"r1_fn_missing\", \"r2_total\", \"r2_real\", \"r2_fp_extra\"]:\n",
    "    key_li.remove(k)\n",
    "key_li = [\"Cluster ID\",\"real\",\"r1\",\"r1_total\", \"r1_found\", \"r1_fn_missing\",\"r2\",\"r2_total\", \"r2_real\", \"r2_fp_extra\",\"instance_id\"] + key_li"
   ]
  },
  {
   "cell_type": "code",
   "execution_count": 332,
   "metadata": {},
   "outputs": [],
   "source": [
    "with open(final_save_name,\"w\",encoding=\"utf8\") as f:\n",
    "    d = my_y_list\n",
    "    csv_writer = csv.DictWriter(f, key_li)\n",
    "    csv_writer.writeheader()\n",
    "    csv_writer.writerows(d)"
   ]
  },
  {
   "cell_type": "code",
   "execution_count": null,
   "metadata": {},
   "outputs": [],
   "source": []
  },
  {
   "cell_type": "code",
   "execution_count": 40,
   "metadata": {
    "ExecuteTime": {
     "end_time": "2021-04-30T17:17:11.784559Z",
     "start_time": "2021-04-30T17:17:11.781960Z"
    }
   },
   "outputs": [],
   "source": [
    "from collections import defaultdict\n",
    "current_cluster_id = 0\n",
    "record_to_cluster = {}\n",
    "cluster_records = defaultdict(set)"
   ]
  },
  {
   "cell_type": "code",
   "execution_count": 43,
   "metadata": {
    "ExecuteTime": {
     "end_time": "2021-04-30T17:17:26.464715Z",
     "start_time": "2021-04-30T17:17:26.452865Z"
    }
   },
   "outputs": [],
   "source": [
    "for r in gold_dict:\n",
    "    a, b = (r.split('|'))\n",
    "    \n",
    "    # Check the case\n",
    "    if (a not in record_to_cluster and b not in record_to_cluster):\n",
    "        # Create a new cluster\n",
    "        record_to_cluster[a] = current_cluster_id\n",
    "        record_to_cluster[b] = current_cluster_id\n",
    "        cluster_records[current_cluster_id].update({a, b})\n",
    "        current_cluster_id += 1\n",
    "    elif(a in record_to_cluster and b not in record_to_cluster):\n",
    "        c = record_to_cluster[a]\n",
    "        record_to_cluster[b] = c\n",
    "        cluster_records[c].update({b})\n",
    "        pass\n",
    "    elif(b in record_to_cluster and a not in record_to_cluster):\n",
    "        c = record_to_cluster[b]\n",
    "        record_to_cluster[a] = c\n",
    "        cluster_records[c].update({a})\n",
    "    elif (a in record_to_cluster and b in record_to_cluster and record_to_cluster[a] != record_to_cluster[b]):\n",
    "        # merge two clusters\n",
    "        # Get the cluster id of to be kept cluster\n",
    "        c_keep = record_to_cluster[a]\n",
    "        c_rem = record_to_cluster[b]\n",
    "        record_to_cluster[b] = c_keep\n",
    "        cluster_records[c_keep].update(cluster_records[c_rem])\n",
    "        del cluster_records[c_rem]"
   ]
  },
  {
   "cell_type": "code",
   "execution_count": 45,
   "metadata": {
    "ExecuteTime": {
     "end_time": "2021-04-30T17:17:33.274274Z",
     "start_time": "2021-04-30T17:17:33.270480Z"
    }
   },
   "outputs": [
    {
     "data": {
      "text/plain": [
       "96"
      ]
     },
     "execution_count": 45,
     "metadata": {},
     "output_type": "execute_result"
    }
   ],
   "source": [
    "len(cluster_records)"
   ]
  },
  {
   "cell_type": "code",
   "execution_count": null,
   "metadata": {},
   "outputs": [],
   "source": []
  }
 ],
 "metadata": {
  "kernelspec": {
   "display_name": "Python 3",
   "language": "python",
   "name": "python3"
  },
  "language_info": {
   "codemirror_mode": {
    "name": "ipython",
    "version": 3
   },
   "file_extension": ".py",
   "mimetype": "text/x-python",
   "name": "python",
   "nbconvert_exporter": "python",
   "pygments_lexer": "ipython3",
   "version": "3.7.10"
  }
 },
 "nbformat": 4,
 "nbformat_minor": 4
}
