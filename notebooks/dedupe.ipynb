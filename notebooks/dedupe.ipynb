{
 "cells": [
  {
   "cell_type": "code",
   "execution_count": 1,
   "metadata": {},
   "outputs": [],
   "source": [
    "import pandas as pd\n",
    "import os\n",
    "import csv\n",
    "import re\n",
    "import logging\n",
    "import optparse\n",
    "import re\n",
    "import spacy\n",
    "import dedupe\n",
    "import pickle\n",
    "import copy\n",
    "import json\n",
    "from unidecode import unidecode"
   ]
  },
  {
   "cell_type": "code",
   "execution_count": 2,
   "metadata": {},
   "outputs": [],
   "source": [
    "sp = spacy.load('en_core_web_sm')"
   ]
  },
  {
   "cell_type": "code",
   "execution_count": 3,
   "metadata": {},
   "outputs": [],
   "source": [
    "def format_number(num):\n",
    "    num = float(num)\n",
    "    if num % 1 == 0:\n",
    "        return int(num)\n",
    "    else:\n",
    "        return num\n",
    "def fill_nulls_with_none(df):\n",
    "    \"\"\" Fills nulls in a dataframe with None.\n",
    "        This is required for the Dedupe package to work properly.\n",
    "\n",
    "        Input: - dataframe with nulls as NaN\n",
    "\n",
    "        Output: - new dataframe with nulls as None\n",
    "    \"\"\"\n",
    "    new_df = df.copy()\n",
    "    for col in df.columns:\n",
    "        new_df[col] = new_df[col].where(new_df[col].notnull(), None)\n",
    "    return new_df\n",
    "\n",
    "def convert_numbers_to_strings(df, cols_to_convert, remove_point_zero=True):\n",
    "    \"\"\" Convert number types to strings in a dataframe.\n",
    "        This is convoluted as need to keep NoneTypes as NoneTypes for what comes next!\n",
    "\n",
    "        Inputs: - df -> dataframe to convert number types\n",
    "                - cols_to_convert -> list of columns to convert\n",
    "                - remove_point_zero -> bool to say whether you want '.0' removed from number\n",
    "\n",
    "        Outputs: - dataframe with converted number types\n",
    "    \"\"\"\n",
    "    new_df = df.copy()\n",
    "    for col in cols_to_convert:\n",
    "        if remove_point_zero:\n",
    "            new_df[col] = new_df[col].apply(lambda x: str(x).replace('.0','')\\\n",
    "                                            if not isinstance(x, type(None)) else x)\n",
    "        else:\n",
    "            new_df[col] = new_df[col].apply(lambda x: str(x)\\\n",
    "                                            if not isinstance(x, type(None)) else x)\n",
    "    return new_df\n",
    "\n",
    "extra_brands = set(pd.read_csv('laptops.csv').Company.str.lower().unique())\n",
    "screen_sizes = set(pd.read_csv('laptops.csv').Inches)\n",
    "screen_sizes = [str(format_number(str(s).lower())) for s in screen_sizes]\n"
   ]
  },
  {
   "cell_type": "code",
   "execution_count": 4,
   "outputs": [],
   "source": [
    "# From Jerry's code. Might not be needed:\n",
    "title_remove_words = [\"price\", \"comparison\", \"at\", \"buy.net\", \"amazon.com\", \":\",\n",
    "\"computers\", \"&\", \"accessories\", \"laptop\", \"vology\", \"tigerdirect\", \".com\", \"ultraportable\", \"cool\",\n",
    "\"audiophile\", \"wireless\", \"bluetooth\", \"speaker\", \"portable\", \"with\", \"built-in\", \"microphone\", \"and\",\n",
    "\"micro\", \"sd\",\"card\",\"slot\", \"-\", \"(\", \")\", \"high\", \"performance\", \"new\", \"core\", \"high\", \"end\", \"bes\",\n",
    "\"audio\", \"nx.m8eaa.007\", \"/\", \"notebook\", \"pc\", '\"', \"brand\", \"new\", \"hewlett-packard\"]\n",
    "\n",
    "def preprocess_laptop_dataset(df):\n",
    "    # Alpha numeric\n",
    "    irrelevant_regex = re.compile(r\"[^a-z0-9,.\\-\\s]\")\n",
    "    multispace_regex = re.compile(r'\\s\\s+') # Why it doesn't work\n",
    "    df.replace({r'[^\\x00-\\x7F]+':''}, regex=True, inplace=True)\n",
    "\n",
    "    for column in df.columns:\n",
    "        if column == 'instance_id':\n",
    "            continue\n",
    "        df[column] = df[column].str.lower().str.replace(irrelevant_regex, ' ').str.replace(multispace_regex, ' ')\n",
    "\n",
    "\n",
    "    def tokenize_new_tile(record):\n",
    "        return [w.text for w in sp(record['new_title'])]\n",
    "\n",
    "    df['new_title'] = df.title\n",
    "    irrelevant_regex = re.compile(r\"[^a-z0-9.\\s]\")\n",
    "    multispace_regex = re.compile(r'\\s\\s+') # Why it doesn't work\n",
    "    df['new_title'] = df.new_title.str.lower().str.replace(irrelevant_regex, '').str.replace(multispace_regex, ' ')\n",
    "    df['new_title_tokens'] =  df.apply(tokenize_new_tile, axis=1)\n",
    "\n",
    "    # Brand assignment\n",
    "    all_brands = set()\n",
    "\n",
    "    all_brands.update(extra_brands)\n",
    "\n",
    "    def assign_brand(record):\n",
    "        # Search in brand first\n",
    "        if record['brand'] in all_brands:\n",
    "            return record['brand']\n",
    "        # then in the title\n",
    "        for el in all_brands:\n",
    "            if el in record['title']:\n",
    "                return el\n",
    "        return \"NNN\"\n",
    "\n",
    "    df['brand'] = df.apply(assign_brand, axis=1)\n",
    "\n",
    "    # cpu brand\n",
    "    intel=['intel', 'i3', 'i5', 'i7'] #Needed because not all entries have intel\n",
    "    def assign_cpu_brand(record):\n",
    "        # Search in brand first\n",
    "        for blue in intel:\n",
    "            if blue in str(record['cpu_brand']) or blue in str(record['title']) or \\\n",
    "                    blue in str(record['cpu_model']) or blue in str(record['cpu_type']):\n",
    "                return 'intel'\n",
    "        return 'amd'\n",
    "\n",
    "    df['cpu_brand'] = df.apply(assign_cpu_brand, axis=1)\n",
    "\n",
    "    def assign_screen_size(record):\n",
    "        brand_tokens = record['new_title_tokens']\n",
    "        arr = []\n",
    "        for t in brand_tokens:\n",
    "            s = t.replace('inch', '')\n",
    "            s = s.replace('in', '')\n",
    "            arr.append(s)\n",
    "\n",
    "        for sc in screen_sizes:\n",
    "            if str(sc) in arr:\n",
    "                return str(sc)\n",
    "\n",
    "        else:\n",
    "            return str(15.6) # Some relaxation\n",
    "    df['screen_size'] = df.apply(assign_screen_size, axis=1)\n",
    "\n",
    "\n",
    "    # # ram capacity\n",
    "    # def assign_ram_capacity(record):\n",
    "    #     s = str(record['ram_capacity']).replace(' ', '')\n",
    "    #     possible_vals = ['2gb', '4gb', '6gb', '8gb', '10gb', '12gb', '16gb',\n",
    "    #                      '32gb', '64gb', '128gb', '256gb', '512gb', '2', '4',\n",
    "    #                      '6', '8', '10', '12', '16', '32', '64', '128']\n",
    "    #     for val in possible_vals:\n",
    "    #         if val in s:\n",
    "    #             return int(val.replace('gb', ''))\n",
    "    #\n",
    "    #     s = str(record['title']).replace(' ', '')  # This will be wrong, please change\n",
    "    #     possible_vals = ['2gb', '4gb', '6gb', '8gb', '10gb', '12gb', '16gb',\n",
    "    #                      '32gb', '64gb', '128gb']\n",
    "    #     for val in possible_vals:\n",
    "    #         if val in s:\n",
    "    #             return int(val.replace('gb', ''))\n",
    "    #\n",
    "    #     return 0\n",
    "        #new ram capacity\n",
    "    def assign_ram_capacity(record):\n",
    "        s = str(record['ram_capacity'])\n",
    "        t = str(record['title'])\n",
    "        regex = re.compile(r\"(\\d{1,3})\\s?([gm]b)\") # rare chance of encountering MB as an error\n",
    "        m = None\n",
    "        #ram_c = df['ram_capacity'].str.extract(regex)\n",
    "        #title_ram = df['title'].str.extract(regex)\n",
    "        if s:\n",
    "            m=re.search(regex, s)\n",
    "        if m is None:\n",
    "            m=re.search(regex, t)\n",
    "        if m is None:\n",
    "            return None\n",
    "        else:\n",
    "            m= m.group()\n",
    "            return re.sub(r'([gm]b)', \"\", m) # remove MB and GB\n",
    "\n",
    "    df['ram_capacity'] = df.apply(assign_ram_capacity, axis=1)\n",
    "\n",
    "    def assign_ram_type(record):\n",
    "        m = None\n",
    "        if \"ddr3\" in record['ram_type']:\n",
    "            return \"ddr3\"\n",
    "\n",
    "    df['ram_type'] = df.apply(assign_ram_type, axis=1)\n",
    "\n",
    "\n",
    "    def assign_hdd_capacity(record):\n",
    "        s = str(record['hdd_capacity']).replace(' ', '')\n",
    "        s2 = str(record['title'].replace(' ', ''))\n",
    "\n",
    "        if 'ssd' in s:\n",
    "            return 0\n",
    "\n",
    "        if re.search(\"\\d{3,4}gb\", s):\n",
    "            return int(re.findall(\"\\d{3,4}gb\", s)[0][:-2])\n",
    "        if re.search(\"\\dtb\", s):\n",
    "            return int(re.findall(\"\\dtb\", s)[0][:-2] + '000')\n",
    "        if re.search(\"\\d{3,4}gbhdd\", s2):\n",
    "            return int(re.findall(\"\\d{3,4}gbhdd\", s2)[0][:-5])\n",
    "        if re.search(\"hdd\\d{3,4}gb\", s2):\n",
    "            return int(re.findall(\"hdd\\d{3,4}gb\", s2)[0][3:-2])\n",
    "        if re.search(\"hdd\\dtb\", s2):\n",
    "            return int(re.findall(\"hdd\\dtb\", s2)[0][3:4] + '000')\n",
    "        if re.search(\"\\dtbhdd\", s2):\n",
    "            return int(re.findall(\"\\dtbhdd\", s2)[0][0] + '000')\n",
    "        return 0\n",
    "    df['hdd_capacity'] = df.apply(assign_hdd_capacity, axis=1)\n",
    "\n",
    "    def assign_ssd_capacity(record):\n",
    "        s = str(record['ssd_capacity']).replace(' ', '')\n",
    "        s2 = str(record['title'].replace(' ', ''))\n",
    "\n",
    "\n",
    "        if re.search(\"\\d{3,4}gb\", s):\n",
    "            return int(re.findall(\"\\d{3,4}gb\", s)[0][:-2])\n",
    "        if re.search(\"\\dtb\", s):\n",
    "            return int(re.findall(\"\\dtb\", s)[0][:-2] + '000')\n",
    "        if re.search(\"\\d{3,4}gbssd\", s2):\n",
    "            return int(re.findall(\"\\d{3,4}gbssd\", s2)[0][:-5])\n",
    "        if re.search(\"ssd\\d{3,4}gb\", s2):\n",
    "            return int(re.findall(\"ssd\\d{3,4}gb\", s2)[0][3:-2])\n",
    "        if re.search(\"ssd\\dtb\", s2):\n",
    "            return int(re.findall(\"ssd\\dtb\", s2)[0][3:4] + '000')\n",
    "        if re.search(\"\\dtbssd\", s2):\n",
    "            return int(re.findall(\"\\dtbssd\", s2)[0][0] + '000')\n",
    "        return 0\n",
    "\n",
    "    df['ssd_capacity'] = df.apply(assign_ssd_capacity, axis=1)\n",
    "\n",
    "    def assign_laptop_model(record):\n",
    "        brand_tokens = record['new_title_tokens']\n",
    "        try:\n",
    "            brand_index = brand_tokens.index(str(record['brand']))\n",
    "            finish_index = brand_index + 2\n",
    "            should_break = False\n",
    "            for i in range(2 + brand_index, 5 + brand_index, 1):\n",
    "                for sc in screen_sizes:\n",
    "                    if sc in brand_tokens[i]:\n",
    "                        should_break = True\n",
    "                        break\n",
    "                if should_break:\n",
    "                    if finish_index == i:\n",
    "                        finish_index -=1\n",
    "                    break\n",
    "                if not (brand_tokens[i].isalpha()):\n",
    "                    finish_index = i\n",
    "                else:\n",
    "                    break\n",
    "        except:\n",
    "            brand_index = -1\n",
    "\n",
    "        if brand_index == -1:\n",
    "            return None\n",
    "\n",
    "        return ' '.join(brand_tokens[brand_index+1:finish_index+1])\n",
    "\n",
    "    df['model'] = df.apply(assign_laptop_model, axis=1)\n",
    "\n",
    "\n",
    "    df = fill_nulls_with_none(df)\n",
    "    df = convert_numbers_to_strings(df, ['screen_size'])\n",
    "    # Unit stand. in weight\n",
    "    def assign_weight(record): #TO DO: Convert kg to lb if needed\n",
    "        regex=re.compile('.?(\\d{1,2}\\.\\d{1,2})\\s?[lpk]')\n",
    "        s = record['weight']\n",
    "        m = None\n",
    "        if s:\n",
    "            m = re.search(regex, s)\n",
    "        if m is None:\n",
    "            m = re.search(regex, record['title'])\n",
    "        if m is None:\n",
    "            return None\n",
    "        else:\n",
    "            m = m.group()\n",
    "            return re.sub(r\"\\s?[lpk]\", \"\", m)\n",
    "\n",
    "    df['weight'] = df.apply(assign_weight, axis=1)\n",
    "\n",
    "    def assign_cpu_type(record):\n",
    "    # Find the cpu type\n",
    "        cpu_list = [\"i5\", \"i3\", \"i7\", \"atom\",\n",
    "                    \"pentium\", \"celeron\", \"a-series\",\n",
    "                    \"e-series\", \"aseries\", \"eseries\",\n",
    "                    \"a1\", \"a2\", \"a3\", \"a4\", \"a5\", \"a6\", \"a7\", \"a8\", \"a9\"]\n",
    "\n",
    "        for cpu in cpu_list:\n",
    "            if record['cpu_type'] is not None and cpu in record['cpu_type']:\n",
    "                return cpu\n",
    "            if cpu in record['title']:\n",
    "                return cpu\n",
    "            if record['cpu_model'] is not None and cpu in record['cpu_model']:\n",
    "                return cpu\n",
    "            if record['cpu_frequency'] is not None and  cpu in record['cpu_frequency']:\n",
    "                return cpu\n",
    "\n",
    "            if re.search(\"e-[0-9]{3}\", record['title']):\n",
    "                return re.findall(\"e-[0-9]{3}\", record['title'])[0]\n",
    "\n",
    "            if record['cpu_model'] is not None and re.search(\"e-[0-9]{3}\", record['cpu_model']):\n",
    "                return re.findall(\"e-[0-9]{3}\", record['cpu_model'])[0]\n",
    "\n",
    "    df['cpu_type'] = df.apply(assign_cpu_type, axis=1)\n",
    "\n",
    "    #TO DO: there are laptops called E1-572 and cpus called E1-2100 or E-300\n",
    "    def assign_cpu_model(record):\n",
    "        model=record['cpu_model']\n",
    "        regex=re.compile(r\"-?\\d{1,4}([mu])\") #For intel cpus\n",
    "        regex2=re.compile(r\"[ea]\\d?-\\d{1,4}[m]?\") #for amd A and E series. Needs detection after AMD tag in title\n",
    "        m=None\n",
    "        if record['cpu_brand']=='intel' and model is not None :\n",
    "            m = re.search(regex, model)\n",
    "            if m is not None:\n",
    "                m=m.group()\n",
    "                return re.sub(r'-', \"\", m)\n",
    "        if re.search(\"intel\", record['title']): # one case where laptop model is 50m and gets caught\n",
    "            m = re.search(regex, record['title'])\n",
    "            if m is not None:\n",
    "                m=m.group()\n",
    "                return re.sub(r'-', \"\", m)\n",
    "        if record['cpu_brand']=='amd' and model is not None:\n",
    "            m = re.search(regex2, model)\n",
    "            if m is not None:\n",
    "                m=m.group()\n",
    "                return re.sub(r'[ea]\\d?-', \"\", m)\n",
    "        if re.search(\"amd\", record['title']):\n",
    "            m = re.search(regex2, record['title'])\n",
    "            if m is not None:\n",
    "                m=m.group()\n",
    "                return re.sub(r'[ea]\\d?-', \"\", m)\n",
    "        if m is None:\n",
    "            return None\n",
    "\n",
    "    df['cpu_model'] = df.apply(assign_cpu_model, axis=1)\n",
    "\n",
    "    def assign_cpu_frequency(record):\n",
    "        s = record['cpu_frequency']\n",
    "        regex=re.compile(r\"\\d?.\\d{1,2}\\s?ghz\")\n",
    "        m = None\n",
    "        if s:\n",
    "            m=re.search(regex, s)\n",
    "            if m is not None:\n",
    "                m=m.group()\n",
    "                return re.sub(r'ghz', \"\", m)\n",
    "        if re.search(\"ghz\", record['title']):\n",
    "            m = re.search(regex, record['title'])\n",
    "            if m is not None:\n",
    "                m=m.group()\n",
    "                return re.sub(r'ghz', \"\", m)\n",
    "        if m is None:\n",
    "            return None\n",
    "    df['cpu_frequency'] = df.apply(assign_cpu_frequency, axis=1)\n",
    "\n",
    "    return df"
   ],
   "metadata": {
    "collapsed": false,
    "pycharm": {
     "name": "#%%\n"
    }
   }
  },
  {
   "cell_type": "code",
   "execution_count": 18,
   "metadata": {},
   "outputs": [
    {
     "data": {
      "text/plain": [
       "' Redundant with previous functions\\ndef fill_nulls_with_none(df):\\n    \"\"\" Fills nulls in a dataframe with None.\\n        This is required for the Dedupe package to work properly.\\n        \\n        Input: - dataframe with nulls as NaN\\n        \\n        Output: - new dataframe with nulls as None\\n    \"\"\"\\n    new_df = df.copy()\\n    for col in df.columns:\\n        new_df[col] = new_df[col].where(new_df[col].notnull(), None)\\n    return new_df\\n\\ndef convert_numbers_to_strings(df, cols_to_convert, remove_point_zero=True):\\n    \"\"\" Convert number types to strings in a dataframe.\\n        This is convoluted as need to keep NoneTypes as NoneTypes for what comes next!\\n        \\n        Inputs: - df -> dataframe to convert number types\\n                - cols_to_convert -> list of columns to convert\\n                - remove_point_zero -> bool to say whether you want \\'.0\\' removed from number\\n        \\n        Outputs: - dataframe with converted number types\\n    \"\"\"\\n    new_df = df.copy()\\n    for col in cols_to_convert:\\n        if remove_point_zero:\\n            new_df[col] = new_df[col].apply(lambda x: str(x).replace(\\'.0\\',\\'\\')                                            if not isinstance(x, type(None)) else x)\\n        else:\\n            new_df[col] = new_df[col].apply(lambda x: str(x)                                            if not isinstance(x, type(None)) else x)\\n    return new_df\\n'"
      ]
     },
     "execution_count": 18,
     "metadata": {},
     "output_type": "execute_result"
    }
   ],
   "source": [
    "'''\n",
    "Redundant with previous functions\n",
    "def fill_nulls_with_none(df):\n",
    "    \"\"\" Fills nulls in a dataframe with None.\n",
    "        This is required for the Dedupe package to work properly.\n",
    "        \n",
    "        Input: - dataframe with nulls as NaN\n",
    "        \n",
    "        Output: - new dataframe with nulls as None\n",
    "    \"\"\"\n",
    "    new_df = df.copy()\n",
    "    for col in df.columns:\n",
    "        new_df[col] = new_df[col].where(new_df[col].notnull(), None)\n",
    "    return new_df\n",
    "\n",
    "def convert_numbers_to_strings(df, cols_to_convert, remove_point_zero=True):\n",
    "    \"\"\" Convert number types to strings in a dataframe.\n",
    "        This is convoluted as need to keep NoneTypes as NoneTypes for what comes next!\n",
    "        \n",
    "        Inputs: - df -> dataframe to convert number types\n",
    "                - cols_to_convert -> list of columns to convert\n",
    "                - remove_point_zero -> bool to say whether you want '.0' removed from number\n",
    "        \n",
    "        Outputs: - dataframe with converted number types\n",
    "    \"\"\"\n",
    "    new_df = df.copy()\n",
    "    for col in cols_to_convert:\n",
    "        if remove_point_zero:\n",
    "            new_df[col] = new_df[col].apply(lambda x: str(x).replace('.0','')\\\n",
    "                                            if not isinstance(x, type(None)) else x)\n",
    "        else:\n",
    "            new_df[col] = new_df[col].apply(lambda x: str(x)\\\n",
    "                                            if not isinstance(x, type(None)) else x)\n",
    "    return new_df\n",
    "'''"
   ]
  },
  {
   "cell_type": "code",
   "execution_count": 5,
   "metadata": {},
   "outputs": [],
   "source": [
    "x2 = pd.read_csv(\"../data/sigmod/X2.csv\")\n",
    "x2.set_index('instance_id',  inplace=True, drop=False)\n",
    "x2 = preprocess_laptop_dataset(x2.copy(deep=True))\n",
    "#x2.ram_capacity[50:60]"
   ]
  },
  {
   "cell_type": "code",
   "execution_count": 6,
   "metadata": {},
   "outputs": [],
   "source": [
    "x3 = pd.read_csv(\"../data/sigmod/X3.csv\")\n",
    "x3.set_index('instance_id',  inplace=True, drop=False)\n",
    "x3 = preprocess_laptop_dataset(x3.copy(deep=True))\n",
    "# x3 = convert_numbers_to_strings(x3, ['ram_capacity', 'screen_size'])"
   ]
  },
  {
   "cell_type": "code",
   "execution_count": 7,
   "metadata": {},
   "outputs": [
    {
     "data": {
      "text/plain": "(343, 337)"
     },
     "execution_count": 7,
     "metadata": {},
     "output_type": "execute_result"
    }
   ],
   "source": [
    "len(x2), len(x3)"
   ]
  },
  {
   "cell_type": "code",
   "execution_count": 104,
   "metadata": {},
   "outputs": [
    {
     "data": {
      "text/plain": "                                       instance_id   brand cpu_brand  \\\ninstance_id                                                            \nwww.softwarecity.ca//737  www.softwarecity.ca//737  lenovo     intel   \nwww.isupplyhub.com//1256  www.isupplyhub.com//1256    acer     intel   \nwww.isupplyhub.com//326    www.isupplyhub.com//326    acer     intel   \nwww.isupplyhub.com//821    www.isupplyhub.com//821      hp       amd   \nwww.isupplyhub.com//157    www.isupplyhub.com//157    asus     intel   \n\n                         cpu_model cpu_type                cpu_frequency  \\\ninstance_id                                                                \nwww.softwarecity.ca//737  i5-3320m       i5                     2.60 ghz   \nwww.isupplyhub.com//1256      None       i5  1.6 ghz intel core i5-4200u   \nwww.isupplyhub.com//326       None       i5        1.6 ghz intel core i5   \nwww.isupplyhub.com//821       None     None                         None   \nwww.isupplyhub.com//157       None       i5        1.7 ghz core i5-3317u   \n\n                          ram_capacity  \\\ninstance_id                              \nwww.softwarecity.ca//737             4   \nwww.isupplyhub.com//1256             8   \nwww.isupplyhub.com//326              4   \nwww.isupplyhub.com//821              4   \nwww.isupplyhub.com//157              4   \n\n                                                             ram_type  \\\ninstance_id                                                             \nwww.softwarecity.ca//737  ddr3 sdram. ddr3-1600 pc3-12800. ddr3 sdram   \nwww.isupplyhub.com//1256                 ddr3 sdram. 8 gb ddr3l sdram   \nwww.isupplyhub.com//326                   ddr3 sdram. 4 gb ddr3-sdram   \nwww.isupplyhub.com//821                   ddr3 sdram. 4 gb sdram ddr3   \nwww.isupplyhub.com//157                         ddr3 sdram. 4 gb ddr3   \n\n                                ram_frequency  hdd_capacity  ssd_capacity  \\\ninstance_id                                                                 \nwww.softwarecity.ca//737  ddr3-1600 pc3-12800           320             0   \nwww.isupplyhub.com//1256                 None           500             0   \nwww.isupplyhub.com//326                  None           500             0   \nwww.isupplyhub.com//821                  None           500             0   \nwww.isupplyhub.com//157                  None             0           256   \n\n                              weight                   dimensions  \\\ninstance_id                                                         \nwww.softwarecity.ca//737     1.80 kg                         None   \nwww.isupplyhub.com//1256  4.8 pounds  15.02 x 10.08 x 0.90 inches   \nwww.isupplyhub.com//326   5.2 pounds     15.02 x 10.08 x 1 inches   \nwww.isupplyhub.com//821   4.8 pounds  15.18 x 0.89 x 10.16 inches   \nwww.isupplyhub.com//157   2.9 pounds   8.80 x 0.70 x 12.80 inches   \n\n                                                                      title  \\\ninstance_id                                                                   \nwww.softwarecity.ca//737  lenovo thinkpad x230 34352jf tablet pc - 12.5 ...   \nwww.isupplyhub.com//1256  amazon.com acer aspire v7-582pg-6479 15.6-inch...   \nwww.isupplyhub.com//326   amazon.com acer aspire e1-572-6870 15.6 inch l...   \nwww.isupplyhub.com//821   amazon.com 15.6 hp 15-f009wm amd dual-core e1-...   \nwww.isupplyhub.com//157   amazon.com asus ux31a-xb52 13.3-inch ultrabook...   \n\n                                                                  new_title  \\\ninstance_id                                                                   \nwww.softwarecity.ca//737  lenovo thinkpad x230 34352jf tablet pc 12.5 in...   \nwww.isupplyhub.com//1256  amazon.com acer aspire v7582pg6479 15.6inch to...   \nwww.isupplyhub.com//326   amazon.com acer aspire e15726870 15.6 inch lap...   \nwww.isupplyhub.com//821   amazon.com 15.6 hp 15f009wm amd dualcore e1210...   \nwww.isupplyhub.com//157   amazon.com asus ux31axb52 13.3inch ultrabook 1...   \n\n                                                           new_title_tokens  \\\ninstance_id                                                                   \nwww.softwarecity.ca//737  [lenovo, thinkpad, x230, 34352jf, tablet, pc, ...   \nwww.isupplyhub.com//1256  [amazon.com, acer, aspire, v7582pg6479, 15.6in...   \nwww.isupplyhub.com//326   [amazon.com, acer, aspire, e15726870, 15.6, in...   \nwww.isupplyhub.com//821   [amazon.com, 15.6, hp, 15f009wm, amd, dualcore...   \nwww.isupplyhub.com//157   [amazon.com, asus, ux31axb52, 13.3inch, ultrab...   \n\n                         screen_size                  model  \ninstance_id                                                  \nwww.softwarecity.ca//737        12.5  thinkpad x230 34352jf  \nwww.isupplyhub.com//1256        15.6     aspire v7582pg6479  \nwww.isupplyhub.com//326         15.6                 aspire  \nwww.isupplyhub.com//821         15.6           15f009wm amd  \nwww.isupplyhub.com//157         13.3              ux31axb52  ",
      "text/html": "<div>\n<style scoped>\n    .dataframe tbody tr th:only-of-type {\n        vertical-align: middle;\n    }\n\n    .dataframe tbody tr th {\n        vertical-align: top;\n    }\n\n    .dataframe thead th {\n        text-align: right;\n    }\n</style>\n<table border=\"1\" class=\"dataframe\">\n  <thead>\n    <tr style=\"text-align: right;\">\n      <th></th>\n      <th>instance_id</th>\n      <th>brand</th>\n      <th>cpu_brand</th>\n      <th>cpu_model</th>\n      <th>cpu_type</th>\n      <th>cpu_frequency</th>\n      <th>ram_capacity</th>\n      <th>ram_type</th>\n      <th>ram_frequency</th>\n      <th>hdd_capacity</th>\n      <th>ssd_capacity</th>\n      <th>weight</th>\n      <th>dimensions</th>\n      <th>title</th>\n      <th>new_title</th>\n      <th>new_title_tokens</th>\n      <th>screen_size</th>\n      <th>model</th>\n    </tr>\n    <tr>\n      <th>instance_id</th>\n      <th></th>\n      <th></th>\n      <th></th>\n      <th></th>\n      <th></th>\n      <th></th>\n      <th></th>\n      <th></th>\n      <th></th>\n      <th></th>\n      <th></th>\n      <th></th>\n      <th></th>\n      <th></th>\n      <th></th>\n      <th></th>\n      <th></th>\n      <th></th>\n    </tr>\n  </thead>\n  <tbody>\n    <tr>\n      <th>www.softwarecity.ca//737</th>\n      <td>www.softwarecity.ca//737</td>\n      <td>lenovo</td>\n      <td>intel</td>\n      <td>i5-3320m</td>\n      <td>i5</td>\n      <td>2.60 ghz</td>\n      <td>4</td>\n      <td>ddr3 sdram. ddr3-1600 pc3-12800. ddr3 sdram</td>\n      <td>ddr3-1600 pc3-12800</td>\n      <td>320</td>\n      <td>0</td>\n      <td>1.80 kg</td>\n      <td>None</td>\n      <td>lenovo thinkpad x230 34352jf tablet pc - 12.5 ...</td>\n      <td>lenovo thinkpad x230 34352jf tablet pc 12.5 in...</td>\n      <td>[lenovo, thinkpad, x230, 34352jf, tablet, pc, ...</td>\n      <td>12.5</td>\n      <td>thinkpad x230 34352jf</td>\n    </tr>\n    <tr>\n      <th>www.isupplyhub.com//1256</th>\n      <td>www.isupplyhub.com//1256</td>\n      <td>acer</td>\n      <td>intel</td>\n      <td>None</td>\n      <td>i5</td>\n      <td>1.6 ghz intel core i5-4200u</td>\n      <td>8</td>\n      <td>ddr3 sdram. 8 gb ddr3l sdram</td>\n      <td>None</td>\n      <td>500</td>\n      <td>0</td>\n      <td>4.8 pounds</td>\n      <td>15.02 x 10.08 x 0.90 inches</td>\n      <td>amazon.com acer aspire v7-582pg-6479 15.6-inch...</td>\n      <td>amazon.com acer aspire v7582pg6479 15.6inch to...</td>\n      <td>[amazon.com, acer, aspire, v7582pg6479, 15.6in...</td>\n      <td>15.6</td>\n      <td>aspire v7582pg6479</td>\n    </tr>\n    <tr>\n      <th>www.isupplyhub.com//326</th>\n      <td>www.isupplyhub.com//326</td>\n      <td>acer</td>\n      <td>intel</td>\n      <td>None</td>\n      <td>i5</td>\n      <td>1.6 ghz intel core i5</td>\n      <td>4</td>\n      <td>ddr3 sdram. 4 gb ddr3-sdram</td>\n      <td>None</td>\n      <td>500</td>\n      <td>0</td>\n      <td>5.2 pounds</td>\n      <td>15.02 x 10.08 x 1 inches</td>\n      <td>amazon.com acer aspire e1-572-6870 15.6 inch l...</td>\n      <td>amazon.com acer aspire e15726870 15.6 inch lap...</td>\n      <td>[amazon.com, acer, aspire, e15726870, 15.6, in...</td>\n      <td>15.6</td>\n      <td>aspire</td>\n    </tr>\n    <tr>\n      <th>www.isupplyhub.com//821</th>\n      <td>www.isupplyhub.com//821</td>\n      <td>hp</td>\n      <td>amd</td>\n      <td>None</td>\n      <td>None</td>\n      <td>None</td>\n      <td>4</td>\n      <td>ddr3 sdram. 4 gb sdram ddr3</td>\n      <td>None</td>\n      <td>500</td>\n      <td>0</td>\n      <td>4.8 pounds</td>\n      <td>15.18 x 0.89 x 10.16 inches</td>\n      <td>amazon.com 15.6 hp 15-f009wm amd dual-core e1-...</td>\n      <td>amazon.com 15.6 hp 15f009wm amd dualcore e1210...</td>\n      <td>[amazon.com, 15.6, hp, 15f009wm, amd, dualcore...</td>\n      <td>15.6</td>\n      <td>15f009wm amd</td>\n    </tr>\n    <tr>\n      <th>www.isupplyhub.com//157</th>\n      <td>www.isupplyhub.com//157</td>\n      <td>asus</td>\n      <td>intel</td>\n      <td>None</td>\n      <td>i5</td>\n      <td>1.7 ghz core i5-3317u</td>\n      <td>4</td>\n      <td>ddr3 sdram. 4 gb ddr3</td>\n      <td>None</td>\n      <td>0</td>\n      <td>256</td>\n      <td>2.9 pounds</td>\n      <td>8.80 x 0.70 x 12.80 inches</td>\n      <td>amazon.com asus ux31a-xb52 13.3-inch ultrabook...</td>\n      <td>amazon.com asus ux31axb52 13.3inch ultrabook 1...</td>\n      <td>[amazon.com, asus, ux31axb52, 13.3inch, ultrab...</td>\n      <td>13.3</td>\n      <td>ux31axb52</td>\n    </tr>\n  </tbody>\n</table>\n</div>"
     },
     "execution_count": 104,
     "metadata": {},
     "output_type": "execute_result"
    }
   ],
   "source": [
    "#x3.head()"
   ]
  },
  {
   "cell_type": "code",
   "execution_count": 8,
   "metadata": {},
   "outputs": [
    {
     "data": {
      "text/plain": "Index([], dtype='object', name='instance_id')"
     },
     "execution_count": 8,
     "metadata": {},
     "output_type": "execute_result"
    }
   ],
   "source": [
    "x2.index.intersection(x3.index)"
   ]
  },
  {
   "cell_type": "code",
   "execution_count": 9,
   "metadata": {},
   "outputs": [],
   "source": [
    "# x23 = x3.append(x2)\n",
    "x23 = x2"
   ]
  },
  {
   "cell_type": "code",
   "execution_count": 10,
   "metadata": {},
   "outputs": [
    {
     "data": {
      "text/plain": "                                       instance_id   brand cpu_brand  \\\ninstance_id                                                            \nwww.softwarecity.ca//737  www.softwarecity.ca//737  lenovo     intel   \nwww.isupplyhub.com//1256  www.isupplyhub.com//1256    acer     intel   \nwww.isupplyhub.com//326    www.isupplyhub.com//326    acer     intel   \nwww.isupplyhub.com//821    www.isupplyhub.com//821      hp       amd   \nwww.isupplyhub.com//157    www.isupplyhub.com//157    asus     intel   \n\n                         cpu_model cpu_type cpu_frequency ram_capacity  \\\ninstance_id                                                              \nwww.softwarecity.ca//737     3320m       i5         2.60            4    \nwww.isupplyhub.com//1256      None       i5          1.6            8    \nwww.isupplyhub.com//326      4200u       i5          1.6            4    \nwww.isupplyhub.com//821       2100     None          None           4    \nwww.isupplyhub.com//157      3317u       i5          1.7            4    \n\n                         ram_type        ram_frequency  hdd_capacity  \\\ninstance_id                                                            \nwww.softwarecity.ca//737     ddr3  ddr3-1600 pc3-12800           320   \nwww.isupplyhub.com//1256     ddr3                 None           500   \nwww.isupplyhub.com//326      ddr3                 None           500   \nwww.isupplyhub.com//821      ddr3                 None           500   \nwww.isupplyhub.com//157      ddr3                 None             0   \n\n                          ssd_capacity weight                   dimensions  \\\ninstance_id                                                                  \nwww.softwarecity.ca//737             0   1.80                         None   \nwww.isupplyhub.com//1256             0    4.8  15.02 x 10.08 x 0.90 inches   \nwww.isupplyhub.com//326              0    5.2     15.02 x 10.08 x 1 inches   \nwww.isupplyhub.com//821              0    4.8  15.18 x 0.89 x 10.16 inches   \nwww.isupplyhub.com//157            256    2.9   8.80 x 0.70 x 12.80 inches   \n\n                                                                      title  \\\ninstance_id                                                                   \nwww.softwarecity.ca//737  lenovo thinkpad x230 34352jf tablet pc - 12.5 ...   \nwww.isupplyhub.com//1256  amazon.com acer aspire v7-582pg-6479 15.6-inch...   \nwww.isupplyhub.com//326   amazon.com acer aspire e1-572-6870 15.6 inch l...   \nwww.isupplyhub.com//821   amazon.com 15.6 hp 15-f009wm amd dual-core e1-...   \nwww.isupplyhub.com//157   amazon.com asus ux31a-xb52 13.3-inch ultrabook...   \n\n                                                                  new_title  \\\ninstance_id                                                                   \nwww.softwarecity.ca//737  lenovo thinkpad x230 34352jf tablet pc 12.5 in...   \nwww.isupplyhub.com//1256  amazon.com acer aspire v7582pg6479 15.6inch to...   \nwww.isupplyhub.com//326   amazon.com acer aspire e15726870 15.6 inch lap...   \nwww.isupplyhub.com//821   amazon.com 15.6 hp 15f009wm amd dualcore e1210...   \nwww.isupplyhub.com//157   amazon.com asus ux31axb52 13.3inch ultrabook 1...   \n\n                                                           new_title_tokens  \\\ninstance_id                                                                   \nwww.softwarecity.ca//737  [lenovo, thinkpad, x230, 34352jf, tablet, pc, ...   \nwww.isupplyhub.com//1256  [amazon.com, acer, aspire, v7582pg6479, 15.6in...   \nwww.isupplyhub.com//326   [amazon.com, acer, aspire, e15726870, 15.6, in...   \nwww.isupplyhub.com//821   [amazon.com, 15.6, hp, 15f009wm, amd, dualcore...   \nwww.isupplyhub.com//157   [amazon.com, asus, ux31axb52, 13.3inch, ultrab...   \n\n                         screen_size                  model  \ninstance_id                                                  \nwww.softwarecity.ca//737        12.5  thinkpad x230 34352jf  \nwww.isupplyhub.com//1256        15.6     aspire v7582pg6479  \nwww.isupplyhub.com//326         15.6                 aspire  \nwww.isupplyhub.com//821         15.6           15f009wm amd  \nwww.isupplyhub.com//157         13.3              ux31axb52  ",
      "text/html": "<div>\n<style scoped>\n    .dataframe tbody tr th:only-of-type {\n        vertical-align: middle;\n    }\n\n    .dataframe tbody tr th {\n        vertical-align: top;\n    }\n\n    .dataframe thead th {\n        text-align: right;\n    }\n</style>\n<table border=\"1\" class=\"dataframe\">\n  <thead>\n    <tr style=\"text-align: right;\">\n      <th></th>\n      <th>instance_id</th>\n      <th>brand</th>\n      <th>cpu_brand</th>\n      <th>cpu_model</th>\n      <th>cpu_type</th>\n      <th>cpu_frequency</th>\n      <th>ram_capacity</th>\n      <th>ram_type</th>\n      <th>ram_frequency</th>\n      <th>hdd_capacity</th>\n      <th>ssd_capacity</th>\n      <th>weight</th>\n      <th>dimensions</th>\n      <th>title</th>\n      <th>new_title</th>\n      <th>new_title_tokens</th>\n      <th>screen_size</th>\n      <th>model</th>\n    </tr>\n    <tr>\n      <th>instance_id</th>\n      <th></th>\n      <th></th>\n      <th></th>\n      <th></th>\n      <th></th>\n      <th></th>\n      <th></th>\n      <th></th>\n      <th></th>\n      <th></th>\n      <th></th>\n      <th></th>\n      <th></th>\n      <th></th>\n      <th></th>\n      <th></th>\n      <th></th>\n      <th></th>\n    </tr>\n  </thead>\n  <tbody>\n    <tr>\n      <th>www.softwarecity.ca//737</th>\n      <td>www.softwarecity.ca//737</td>\n      <td>lenovo</td>\n      <td>intel</td>\n      <td>3320m</td>\n      <td>i5</td>\n      <td>2.60</td>\n      <td>4</td>\n      <td>ddr3</td>\n      <td>ddr3-1600 pc3-12800</td>\n      <td>320</td>\n      <td>0</td>\n      <td>1.80</td>\n      <td>None</td>\n      <td>lenovo thinkpad x230 34352jf tablet pc - 12.5 ...</td>\n      <td>lenovo thinkpad x230 34352jf tablet pc 12.5 in...</td>\n      <td>[lenovo, thinkpad, x230, 34352jf, tablet, pc, ...</td>\n      <td>12.5</td>\n      <td>thinkpad x230 34352jf</td>\n    </tr>\n    <tr>\n      <th>www.isupplyhub.com//1256</th>\n      <td>www.isupplyhub.com//1256</td>\n      <td>acer</td>\n      <td>intel</td>\n      <td>None</td>\n      <td>i5</td>\n      <td>1.6</td>\n      <td>8</td>\n      <td>ddr3</td>\n      <td>None</td>\n      <td>500</td>\n      <td>0</td>\n      <td>4.8</td>\n      <td>15.02 x 10.08 x 0.90 inches</td>\n      <td>amazon.com acer aspire v7-582pg-6479 15.6-inch...</td>\n      <td>amazon.com acer aspire v7582pg6479 15.6inch to...</td>\n      <td>[amazon.com, acer, aspire, v7582pg6479, 15.6in...</td>\n      <td>15.6</td>\n      <td>aspire v7582pg6479</td>\n    </tr>\n    <tr>\n      <th>www.isupplyhub.com//326</th>\n      <td>www.isupplyhub.com//326</td>\n      <td>acer</td>\n      <td>intel</td>\n      <td>4200u</td>\n      <td>i5</td>\n      <td>1.6</td>\n      <td>4</td>\n      <td>ddr3</td>\n      <td>None</td>\n      <td>500</td>\n      <td>0</td>\n      <td>5.2</td>\n      <td>15.02 x 10.08 x 1 inches</td>\n      <td>amazon.com acer aspire e1-572-6870 15.6 inch l...</td>\n      <td>amazon.com acer aspire e15726870 15.6 inch lap...</td>\n      <td>[amazon.com, acer, aspire, e15726870, 15.6, in...</td>\n      <td>15.6</td>\n      <td>aspire</td>\n    </tr>\n    <tr>\n      <th>www.isupplyhub.com//821</th>\n      <td>www.isupplyhub.com//821</td>\n      <td>hp</td>\n      <td>amd</td>\n      <td>2100</td>\n      <td>None</td>\n      <td>None</td>\n      <td>4</td>\n      <td>ddr3</td>\n      <td>None</td>\n      <td>500</td>\n      <td>0</td>\n      <td>4.8</td>\n      <td>15.18 x 0.89 x 10.16 inches</td>\n      <td>amazon.com 15.6 hp 15-f009wm amd dual-core e1-...</td>\n      <td>amazon.com 15.6 hp 15f009wm amd dualcore e1210...</td>\n      <td>[amazon.com, 15.6, hp, 15f009wm, amd, dualcore...</td>\n      <td>15.6</td>\n      <td>15f009wm amd</td>\n    </tr>\n    <tr>\n      <th>www.isupplyhub.com//157</th>\n      <td>www.isupplyhub.com//157</td>\n      <td>asus</td>\n      <td>intel</td>\n      <td>3317u</td>\n      <td>i5</td>\n      <td>1.7</td>\n      <td>4</td>\n      <td>ddr3</td>\n      <td>None</td>\n      <td>0</td>\n      <td>256</td>\n      <td>2.9</td>\n      <td>8.80 x 0.70 x 12.80 inches</td>\n      <td>amazon.com asus ux31a-xb52 13.3-inch ultrabook...</td>\n      <td>amazon.com asus ux31axb52 13.3inch ultrabook 1...</td>\n      <td>[amazon.com, asus, ux31axb52, 13.3inch, ultrab...</td>\n      <td>13.3</td>\n      <td>ux31axb52</td>\n    </tr>\n  </tbody>\n</table>\n</div>"
     },
     "execution_count": 10,
     "metadata": {},
     "output_type": "execute_result"
    }
   ],
   "source": [
    "x23.head()"
   ]
  },
  {
   "cell_type": "code",
   "execution_count": 11,
   "metadata": {},
   "outputs": [
    {
     "data": {
      "text/plain": "(Index(['instance_id', 'brand', 'cpu_brand', 'cpu_model', 'cpu_type',\n        'cpu_frequency', 'ram_capacity', 'ram_type', 'ram_frequency',\n        'hdd_capacity', 'ssd_capacity', 'weight', 'dimensions', 'title',\n        'new_title', 'new_title_tokens', 'screen_size', 'model'],\n       dtype='object'),\n 18)"
     },
     "execution_count": 11,
     "metadata": {},
     "output_type": "execute_result"
    }
   ],
   "source": [
    "x23.columns, len(x23.columns)"
   ]
  },
  {
   "cell_type": "code",
   "execution_count": 12,
   "metadata": {},
   "outputs": [],
   "source": [
    "to_dedupe = x23[[\n",
    "    'instance_id',\n",
    "    'brand',\n",
    "    'cpu_brand',\n",
    "    'cpu_type',\n",
    "    'ram_capacity',\n",
    "    'hdd_capacity', \n",
    "    'ssd_capacity',\n",
    "    'title',\n",
    "    'screen_size',\n",
    "    'model']].copy()"
   ]
  },
  {
   "cell_type": "code",
   "execution_count": 13,
   "metadata": {},
   "outputs": [
    {
     "data": {
      "text/plain": "                                       instance_id   brand cpu_brand cpu_type  \\\ninstance_id                                                                     \nwww.softwarecity.ca//737  www.softwarecity.ca//737  lenovo     intel       i5   \nwww.isupplyhub.com//1256  www.isupplyhub.com//1256    acer     intel       i5   \nwww.isupplyhub.com//326    www.isupplyhub.com//326    acer     intel       i5   \nwww.isupplyhub.com//821    www.isupplyhub.com//821      hp       amd     None   \nwww.isupplyhub.com//157    www.isupplyhub.com//157    asus     intel       i5   \n\n                         ram_capacity  hdd_capacity  ssd_capacity  \\\ninstance_id                                                         \nwww.softwarecity.ca//737           4            320             0   \nwww.isupplyhub.com//1256           8            500             0   \nwww.isupplyhub.com//326            4            500             0   \nwww.isupplyhub.com//821            4            500             0   \nwww.isupplyhub.com//157            4              0           256   \n\n                                                                      title  \\\ninstance_id                                                                   \nwww.softwarecity.ca//737  lenovo thinkpad x230 34352jf tablet pc - 12.5 ...   \nwww.isupplyhub.com//1256  amazon.com acer aspire v7-582pg-6479 15.6-inch...   \nwww.isupplyhub.com//326   amazon.com acer aspire e1-572-6870 15.6 inch l...   \nwww.isupplyhub.com//821   amazon.com 15.6 hp 15-f009wm amd dual-core e1-...   \nwww.isupplyhub.com//157   amazon.com asus ux31a-xb52 13.3-inch ultrabook...   \n\n                         screen_size                  model  \ninstance_id                                                  \nwww.softwarecity.ca//737        12.5  thinkpad x230 34352jf  \nwww.isupplyhub.com//1256        15.6     aspire v7582pg6479  \nwww.isupplyhub.com//326         15.6                 aspire  \nwww.isupplyhub.com//821         15.6           15f009wm amd  \nwww.isupplyhub.com//157         13.3              ux31axb52  ",
      "text/html": "<div>\n<style scoped>\n    .dataframe tbody tr th:only-of-type {\n        vertical-align: middle;\n    }\n\n    .dataframe tbody tr th {\n        vertical-align: top;\n    }\n\n    .dataframe thead th {\n        text-align: right;\n    }\n</style>\n<table border=\"1\" class=\"dataframe\">\n  <thead>\n    <tr style=\"text-align: right;\">\n      <th></th>\n      <th>instance_id</th>\n      <th>brand</th>\n      <th>cpu_brand</th>\n      <th>cpu_type</th>\n      <th>ram_capacity</th>\n      <th>hdd_capacity</th>\n      <th>ssd_capacity</th>\n      <th>title</th>\n      <th>screen_size</th>\n      <th>model</th>\n    </tr>\n    <tr>\n      <th>instance_id</th>\n      <th></th>\n      <th></th>\n      <th></th>\n      <th></th>\n      <th></th>\n      <th></th>\n      <th></th>\n      <th></th>\n      <th></th>\n      <th></th>\n    </tr>\n  </thead>\n  <tbody>\n    <tr>\n      <th>www.softwarecity.ca//737</th>\n      <td>www.softwarecity.ca//737</td>\n      <td>lenovo</td>\n      <td>intel</td>\n      <td>i5</td>\n      <td>4</td>\n      <td>320</td>\n      <td>0</td>\n      <td>lenovo thinkpad x230 34352jf tablet pc - 12.5 ...</td>\n      <td>12.5</td>\n      <td>thinkpad x230 34352jf</td>\n    </tr>\n    <tr>\n      <th>www.isupplyhub.com//1256</th>\n      <td>www.isupplyhub.com//1256</td>\n      <td>acer</td>\n      <td>intel</td>\n      <td>i5</td>\n      <td>8</td>\n      <td>500</td>\n      <td>0</td>\n      <td>amazon.com acer aspire v7-582pg-6479 15.6-inch...</td>\n      <td>15.6</td>\n      <td>aspire v7582pg6479</td>\n    </tr>\n    <tr>\n      <th>www.isupplyhub.com//326</th>\n      <td>www.isupplyhub.com//326</td>\n      <td>acer</td>\n      <td>intel</td>\n      <td>i5</td>\n      <td>4</td>\n      <td>500</td>\n      <td>0</td>\n      <td>amazon.com acer aspire e1-572-6870 15.6 inch l...</td>\n      <td>15.6</td>\n      <td>aspire</td>\n    </tr>\n    <tr>\n      <th>www.isupplyhub.com//821</th>\n      <td>www.isupplyhub.com//821</td>\n      <td>hp</td>\n      <td>amd</td>\n      <td>None</td>\n      <td>4</td>\n      <td>500</td>\n      <td>0</td>\n      <td>amazon.com 15.6 hp 15-f009wm amd dual-core e1-...</td>\n      <td>15.6</td>\n      <td>15f009wm amd</td>\n    </tr>\n    <tr>\n      <th>www.isupplyhub.com//157</th>\n      <td>www.isupplyhub.com//157</td>\n      <td>asus</td>\n      <td>intel</td>\n      <td>i5</td>\n      <td>4</td>\n      <td>0</td>\n      <td>256</td>\n      <td>amazon.com asus ux31a-xb52 13.3-inch ultrabook...</td>\n      <td>13.3</td>\n      <td>ux31axb52</td>\n    </tr>\n  </tbody>\n</table>\n</div>"
     },
     "execution_count": 13,
     "metadata": {},
     "output_type": "execute_result"
    }
   ],
   "source": [
    "to_dedupe.head()"
   ]
  },
  {
   "cell_type": "code",
   "execution_count": 14,
   "metadata": {},
   "outputs": [],
   "source": [
    "to_dedupe_dict = to_dedupe.to_dict(orient = 'index')"
   ]
  },
  {
   "cell_type": "code",
   "execution_count": 15,
   "metadata": {},
   "outputs": [
    {
     "data": {
      "text/plain": "{'instance_id': 'www.softwarecity.ca//737',\n 'brand': 'lenovo',\n 'cpu_brand': 'intel',\n 'cpu_type': 'i5',\n 'ram_capacity': '4 ',\n 'hdd_capacity': 320,\n 'ssd_capacity': 0,\n 'title': 'lenovo thinkpad x230 34352jf tablet pc - 12.5 - in-plane switching ips technology - wireless lan - intel core i5 i5-3320m 2.60 ghz - black - 4 gb ram - 320 gb hdd - windows 7 professional 64-bit - convertible - 1366 x 768 multi-touch screen display led backlight - bluetooth - french keyboard - 34352jf - softwarecity.ca - canada',\n 'screen_size': '12.5',\n 'model': 'thinkpad x230 34352jf'}"
     },
     "execution_count": 15,
     "metadata": {},
     "output_type": "execute_result"
    }
   ],
   "source": [
    "to_dedupe_dict['www.softwarecity.ca//737']"
   ]
  },
  {
   "cell_type": "code",
   "execution_count": 31,
   "metadata": {},
   "outputs": [],
   "source": [
    "with open('to_dedupe_dict.pkl', 'wb') as f:\n",
    "    pickle.dump(to_dedupe_dict, f)\n",
    "with open('to_dedupe_dict.pkl', 'rb') as f:\n",
    "    to_dedupe_dict = pickle.load(f)"
   ]
  },
  {
   "cell_type": "code",
   "execution_count": 32,
   "metadata": {},
   "outputs": [],
   "source": [
    "# docs for this are here: \n",
    "fields = [{'field' : 'brand', 'type' : 'Categorical', 'categories' : extra_brands},\n",
    "          \n",
    "          {'field' : 'cpu_brand', 'type': 'Categorical', 'categories' : ['amd', 'intel']}, \n",
    "          \n",
    "#           {'field' : 'cpu_model', 'type': 'String', 'has_missing' : True},\n",
    "          \n",
    "          {'field' : 'cpu_type', 'type': 'Exact', 'has_missing' : False},\n",
    "          \n",
    "          {'field' : 'ram_capacity', 'type': 'Price', 'has_missing' : False},\n",
    "          \n",
    "          {'field' : 'hdd_capacity', 'type': 'Price', 'has_missing' : False},\n",
    "          \n",
    "          {'field' : 'ssd_capacity', 'type': 'Price', 'has_missing' : False},\n",
    "          \n",
    "          {'field' : 'title', 'type': 'Text', 'has_missing' : False},\n",
    "          \n",
    "          {'field' : 'screen_size', 'type': 'Categorical', 'has_missing' : False, 'categories' : screen_sizes},\n",
    "          \n",
    "          {'field' : 'model', 'type': 'String', 'has_missing' : True},\n",
    "          \n",
    "         ]"
   ]
  },
  {
   "cell_type": "code",
   "execution_count": 46,
   "metadata": {},
   "outputs": [],
   "source": [
    "# There is a bug later on that requires num_cores to be 1, but we can make use of\n",
    "# multi-threaded processes in the meantime\n",
    "deduper = dedupe.Dedupe(fields, num_cores=24)\n"
   ]
  },
  {
   "cell_type": "code",
   "execution_count": 34,
   "metadata": {},
   "outputs": [
    {
     "data": {
      "text/plain": [
       "58653"
      ]
     },
     "execution_count": 34,
     "metadata": {},
     "output_type": "execute_result"
    }
   ],
   "source": [
    "y2 = pd.read_csv('../data/sigmod/Y2.csv')\n",
    "y3 = pd.read_csv('../data/sigmod/Y3.csv')\n",
    "# y = y3.append(y2)\n",
    "y = y2\n",
    "len(y)"
   ]
  },
  {
   "cell_type": "code",
   "execution_count": 35,
   "metadata": {},
   "outputs": [],
   "source": [
    "training_data = {'match': [], 'distinct': []}"
   ]
  },
  {
   "cell_type": "code",
   "execution_count": 36,
   "metadata": {},
   "outputs": [
    {
     "name": "stderr",
     "output_type": "stream",
     "text": [
      "d:\\coding projects\\sigmod\\venv\\lib\\site-packages\\pandas\\core\\frame.py:1549: FutureWarning: Using short name for 'orient' is deprecated. Only the options: ('dict', list, 'series', 'split', 'records', 'index') will be used in a future version. Use one of the above to silence this warning.\n",
      "  warnings.warn(\n",
      "d:\\coding projects\\sigmod\\venv\\lib\\site-packages\\pandas\\core\\frame.py:1549: FutureWarning: Using short name for 'orient' is deprecated. Only the options: ('dict', list, 'series', 'split', 'records', 'index') will be used in a future version. Use one of the above to silence this warning.\n",
      "  warnings.warn(\n"
     ]
    }
   ],
   "source": [
    "match = y[y.label == 1].to_dict(orient='row')\n",
    "distinct = y[y.label == 0].to_dict(orient='row')"
   ]
  },
  {
   "cell_type": "code",
   "execution_count": 37,
   "metadata": {},
   "outputs": [],
   "source": [
    "for m in match:\n",
    "    training_data['match'].append( ( to_dedupe_dict[m['left_instance_id']], to_dedupe_dict[m['right_instance_id']] ) )"
   ]
  },
  {
   "cell_type": "code",
   "execution_count": 38,
   "metadata": {},
   "outputs": [
    {
     "data": {
      "text/plain": [
       "2152"
      ]
     },
     "execution_count": 38,
     "metadata": {},
     "output_type": "execute_result"
    }
   ],
   "source": [
    "len(training_data['match'])"
   ]
  },
  {
   "cell_type": "code",
   "execution_count": 39,
   "metadata": {},
   "outputs": [],
   "source": [
    "for d in distinct:\n",
    "    training_data['distinct'].append( ( to_dedupe_dict[d['left_instance_id']], to_dedupe_dict[d['right_instance_id']] ) )"
   ]
  },
  {
   "cell_type": "code",
   "execution_count": 40,
   "metadata": {},
   "outputs": [
    {
     "data": {
      "text/plain": [
       "56501"
      ]
     },
     "execution_count": 40,
     "metadata": {},
     "output_type": "execute_result"
    }
   ],
   "source": [
    "len(training_data['distinct'])"
   ]
  },
  {
   "cell_type": "code",
   "execution_count": 41,
   "metadata": {},
   "outputs": [],
   "source": [
    "# training_data['match'].extend(my_own_annotation['match'])"
   ]
  },
  {
   "cell_type": "code",
   "execution_count": 42,
   "metadata": {},
   "outputs": [],
   "source": [
    "# training_data['distinct'].extend(my_own_annotation['distinct'])"
   ]
  },
  {
   "cell_type": "code",
   "execution_count": 43,
   "metadata": {},
   "outputs": [],
   "source": [
    "with open('y_laptop.json', 'w') as fout:\n",
    "    json.dump(training_data, fout)"
   ]
  },
  {
   "cell_type": "code",
   "execution_count": 44,
   "metadata": {},
   "outputs": [
    {
     "name": "stderr",
     "output_type": "stream",
     "text": [
      "INFO:dedupe.api:reading training from file\n",
      "INFO:dedupe.training:Final predicate set:\n",
      "INFO:dedupe.training:SimplePredicate: (twoGramFingerprint, title)\n",
      "d:\\coding projects\\sigmod\\venv\\lib\\site-packages\\rlr\\lr.py:35: UserWarning: The line-search routine reaches the maximum number of evaluations.\n",
      "  final_betas = opt.minimize(loss,\n",
      "INFO:dedupe.training:Final predicate set:\n",
      "INFO:dedupe.training:SimplePredicate: (wholeFieldPredicate, screen_size)\n",
      "INFO:dedupe.training:SimplePredicate: (sortedAcronym, title)\n"
     ]
    }
   ],
   "source": [
    "training_file = 'y_laptop.json'\n",
    "with open(training_file) as tf:\n",
    "    deduper.prepare_training(to_dedupe_dict, training_file=tf, sample_size=1500, blocked_proportion=0.9)"
   ]
  },
  {
   "cell_type": "code",
   "execution_count": 45,
   "metadata": {
    "scrolled": true
   },
   "outputs": [
    {
     "name": "stderr",
     "output_type": "stream",
     "text": [
      "brand : lenovo\n",
      "cpu_brand : intel\n",
      "cpu_type : i5\n",
      "ram_capacity : 4\n",
      "hdd_capacity : 0\n",
      "ssd_capacity : 240\n",
      "title : lenovo thinkpad x1 carbon touch 3460 - 14 - core i5 3427u - windows 8 pro 64-bit - 4 gb ram - 240 gb ssd - vology\n",
      "screen_size : 14\n",
      "model : thinkpad x1\n",
      "\n",
      "brand : lenovo\n",
      "cpu_brand : intel\n",
      "cpu_type : i5\n",
      "ram_capacity : 4\n",
      "hdd_capacity : 0\n",
      "ssd_capacity : 240\n",
      "title : lenovo thinkpad x1 carbon touch 3460 - 14 - core i5 3427u - windows 8 pro 64-bit - 4 gb ram - 240 gb ssd - vology\n",
      "screen_size : 14\n",
      "model : thinkpad x1\n",
      "\n",
      "2152/10 positive, 56501/10 negative\n",
      "Do these records refer to the same thing?\n",
      "(y)es / (n)o / (u)nsure / (f)inished\n",
      "(y)es / (n)o / (u)nsure / (f)inished\n",
      "(y)es / (n)o / (u)nsure / (f)inished\n",
      "(y)es / (n)o / (u)nsure / (f)inished\n",
      "(y)es / (n)o / (u)nsure / (f)inished\n",
      "(y)es / (n)o / (u)nsure / (f)inished\n",
      "brand : lenovo\n",
      "cpu_brand : intel\n",
      "cpu_type : i7\n",
      "ram_capacity : 8\n",
      "hdd_capacity : 0\n",
      "ssd_capacity : 180\n",
      "title : lenovo thinkpad x1 carbon 3444 - 14 - core i7 3667u - windows 8 pro 64-bit - 8 gb ram - 180 gb ssd - vology\n",
      "screen_size : 14\n",
      "model : thinkpad x1\n",
      "\n",
      "brand : lenovo\n",
      "cpu_brand : intel\n",
      "cpu_type : i7\n",
      "ram_capacity : 8\n",
      "hdd_capacity : 0\n",
      "ssd_capacity : 180\n",
      "title : lenovo thinkpad x1 carbon 3444 - 14 - core i7 3667u - windows 8 pro 64-bit - 8 gb ram - 180 gb ssd - vology\n",
      "screen_size : 14\n",
      "model : thinkpad x1\n",
      "\n",
      "2153/10 positive, 56501/10 negative\n",
      "Do these records refer to the same thing?\n",
      "(y)es / (n)o / (u)nsure / (f)inished / (p)revious\n",
      "(y)es / (n)o / (u)nsure / (f)inished / (p)revious\n",
      "(y)es / (n)o / (u)nsure / (f)inished / (p)revious\n",
      "brand : lenovo\n",
      "cpu_brand : intel\n",
      "cpu_type : i7\n",
      "ram_capacity : 8\n",
      "hdd_capacity : 0\n",
      "ssd_capacity : 180\n",
      "title : lenovo thinkpad x1 carbon touch 3460 - 14 - core i7 3667u - windows 8 pro 64-bit - 8 gb ram - 180 gb ssd - vology\n",
      "screen_size : 14\n",
      "model : thinkpad x1\n",
      "\n",
      "brand : lenovo\n",
      "cpu_brand : intel\n",
      "cpu_type : i7\n",
      "ram_capacity : 8\n",
      "hdd_capacity : 0\n",
      "ssd_capacity : 180\n",
      "title : lenovo thinkpad x1 carbon touch 3460 - 14 - core i7 3667u - windows 8 pro 64-bit - 8 gb ram - 180 gb ssd - vology\n",
      "screen_size : 14\n",
      "model : thinkpad x1\n",
      "\n",
      "2154/10 positive, 56501/10 negative\n",
      "Do these records refer to the same thing?\n",
      "(y)es / (n)o / (u)nsure / (f)inished / (p)revious\n",
      "brand : lenovo\n",
      "cpu_brand : intel\n",
      "cpu_type : i7\n",
      "ram_capacity : 8\n",
      "hdd_capacity : 0\n",
      "ssd_capacity : 240\n",
      "title : lenovo thinkpad x1 carbon 3448 - 14 - core i7 3667u - windows 8 pro 64-bit - 8 gb ram - 240 gb ssd - vology\n",
      "screen_size : 14\n",
      "model : thinkpad x1\n",
      "\n",
      "brand : lenovo\n",
      "cpu_brand : intel\n",
      "cpu_type : i7\n",
      "ram_capacity : 8\n",
      "hdd_capacity : 0\n",
      "ssd_capacity : 240\n",
      "title : lenovo thinkpad x1 carbon 3448 - 14 - core i7 3667u - windows 8 pro 64-bit - 8 gb ram - 240 gb ssd - vology\n",
      "screen_size : 14\n",
      "model : thinkpad x1\n",
      "\n",
      "2155/10 positive, 56501/10 negative\n",
      "Do these records refer to the same thing?\n",
      "(y)es / (n)o / (u)nsure / (f)inished / (p)revious\n",
      "(y)es / (n)o / (u)nsure / (f)inished / (p)revious\n",
      "brand : lenovo\n",
      "cpu_brand : intel\n",
      "cpu_type : i5\n",
      "ram_capacity : 4\n",
      "hdd_capacity : 0\n",
      "ssd_capacity : 128\n",
      "title : lenovo thinkpad x1 carbon 3460 - 14 - core i5 3427u - windows 7 pro 64-bit - 4 gb ram - 128 gb ssd - vology\n",
      "screen_size : 14\n",
      "model : thinkpad x1\n",
      "\n",
      "brand : lenovo\n",
      "cpu_brand : intel\n",
      "cpu_type : i5\n",
      "ram_capacity : 4\n",
      "hdd_capacity : 0\n",
      "ssd_capacity : 128\n",
      "title : lenovo thinkpad x1 carbon 3460 - 14 - core i5 3427u - windows 7 pro 64-bit - 4 gb ram - 128 gb ssd - vology\n",
      "screen_size : 14\n",
      "model : thinkpad x1\n",
      "\n",
      "2156/10 positive, 56501/10 negative\n",
      "Do these records refer to the same thing?\n",
      "(y)es / (n)o / (u)nsure / (f)inished / (p)revious\n",
      "(y)es / (n)o / (u)nsure / (f)inished / (p)revious\n",
      "brand : lenovo\n",
      "cpu_brand : intel\n",
      "cpu_type : i7\n",
      "ram_capacity : 8\n",
      "hdd_capacity : 0\n",
      "ssd_capacity : 240\n",
      "title : lenovo thinkpad x1 carbon 3448 - 14 - core i7 3667u - windows 8 pro 64-bit windows 7 pro 64-bit downgrade - 8 gb ram - 240 gb ssd - vology\n",
      "screen_size : 14\n",
      "model : thinkpad x1\n",
      "\n",
      "brand : lenovo\n",
      "cpu_brand : intel\n",
      "cpu_type : i7\n",
      "ram_capacity : 8\n",
      "hdd_capacity : 0\n",
      "ssd_capacity : 240\n",
      "title : lenovo thinkpad x1 carbon 3448 - 14 - core i7 3667u - windows 8 pro 64-bit windows 7 pro 64-bit downgrade - 8 gb ram - 240 gb ssd - vology\n",
      "screen_size : 14\n",
      "model : thinkpad x1\n",
      "\n",
      "2157/10 positive, 56501/10 negative\n",
      "Do these records refer to the same thing?\n",
      "(y)es / (n)o / (u)nsure / (f)inished / (p)revious\n",
      "(y)es / (n)o / (u)nsure / (f)inished / (p)revious\n",
      "brand : lenovo\n",
      "cpu_brand : intel\n",
      "cpu_type : i5\n",
      "ram_capacity : 4\n",
      "hdd_capacity : 0\n",
      "ssd_capacity : 240\n",
      "title : lenovo thinkpad x1 carbon touch 3460 - 14 - core i5 3427u - windows 8 pro 64-bit - 4 gb ram - 240 gb ssd - vology\n",
      "screen_size : 14\n",
      "model : thinkpad x1\n",
      "\n",
      "brand : lenovo\n",
      "cpu_brand : intel\n",
      "cpu_type : i5\n",
      "ram_capacity : 4\n",
      "hdd_capacity : 0\n",
      "ssd_capacity : 240\n",
      "title : lenovo thinkpad x1 carbon touch 3460 - 14 - core i5 3427u - windows 8 pro 64-bit - 4 gb ram - 240 gb ssd - vology\n",
      "screen_size : 14\n",
      "model : thinkpad x1\n",
      "\n",
      "2158/10 positive, 56501/10 negative\n",
      "Do these records refer to the same thing?\n",
      "(y)es / (n)o / (u)nsure / (f)inished / (p)revious\n",
      "(y)es / (n)o / (u)nsure / (f)inished / (p)revious\n",
      "brand : lenovo\n",
      "cpu_brand : intel\n",
      "cpu_type : i7\n",
      "ram_capacity : 8\n",
      "hdd_capacity : 0\n",
      "ssd_capacity : 180\n",
      "title : lenovo thinkpad x1 carbon 3448 - 14 - core i7 3667u - windows 8 pro 64-bit - 8 gb ram - 180 gb ssd - vology\n",
      "screen_size : 14\n",
      "model : thinkpad x1\n",
      "\n",
      "brand : lenovo\n",
      "cpu_brand : intel\n",
      "cpu_type : i7\n",
      "ram_capacity : 8\n",
      "hdd_capacity : 0\n",
      "ssd_capacity : 180\n",
      "title : lenovo thinkpad x1 carbon 3448 - 14 - core i7 3667u - windows 8 pro 64-bit - 8 gb ram - 180 gb ssd - vology\n",
      "screen_size : 14\n",
      "model : thinkpad x1\n",
      "\n",
      "2159/10 positive, 56501/10 negative\n",
      "Do these records refer to the same thing?\n",
      "(y)es / (n)o / (u)nsure / (f)inished / (p)revious\n",
      "(y)es / (n)o / (u)nsure / (f)inished / (p)revious\n",
      "brand : lenovo\n",
      "cpu_brand : intel\n",
      "cpu_type : i5\n",
      "ram_capacity : 4\n",
      "hdd_capacity : 0\n",
      "ssd_capacity : 180\n",
      "title : lenovo thinkpad x1 carbon touch 3460 - 14 - core i5 3427u - windows 8 pro 64-bit - 4 gb ram - 180 gb ssd - vology\n",
      "screen_size : 14\n",
      "model : thinkpad x1\n",
      "\n",
      "brand : lenovo\n",
      "cpu_brand : intel\n",
      "cpu_type : i5\n",
      "ram_capacity : 4\n",
      "hdd_capacity : 0\n",
      "ssd_capacity : 180\n",
      "title : lenovo thinkpad x1 carbon touch 3460 - 14 - core i5 3427u - windows 8 pro 64-bit - 4 gb ram - 180 gb ssd - vology\n",
      "screen_size : 14\n",
      "model : thinkpad x1\n",
      "\n",
      "2160/10 positive, 56501/10 negative\n",
      "Do these records refer to the same thing?\n",
      "(y)es / (n)o / (u)nsure / (f)inished / (p)revious\n",
      "(y)es / (n)o / (u)nsure / (f)inished / (p)revious\n",
      "(y)es / (n)o / (u)nsure / (f)inished / (p)revious\n",
      "(y)es / (n)o / (u)nsure / (f)inished / (p)revious\n",
      "Exception ignored in: 'lbfgs._lowlevel.call_eval'\n",
      "Traceback (most recent call last):\n",
      "  File \"d:\\coding projects\\sigmod\\venv\\lib\\site-packages\\rlr\\lr.py\", line 73, in loss\n",
      "    g[:] = gradient(x0, X, y, case_weights, alpha)\n",
      "  File \"d:\\coding projects\\sigmod\\venv\\lib\\site-packages\\rlr\\lr.py\", line 86, in gradient\n",
      "    grad_c = z0.sum() \n",
      "  File \"d:\\coding projects\\sigmod\\venv\\lib\\site-packages\\numpy\\core\\_methods.py\", line 47, in _sum\n",
      "    return umr_sum(a, axis, dtype, out, keepdims, initial, where)\n",
      "KeyboardInterrupt: \n",
      "brand : lenovo\n",
      "cpu_brand : intel\n",
      "cpu_type : i7\n",
      "ram_capacity : 8\n",
      "hdd_capacity : 0\n",
      "ssd_capacity : 180\n",
      "title : lenovo thinkpad x1 carbon 3460 - 14 - core i7 3667u - windows 8 pro 64-bit - 8 gb ram - 180 gb ssd - vology\n",
      "screen_size : 14\n",
      "model : thinkpad x1\n",
      "\n",
      "brand : lenovo\n",
      "cpu_brand : intel\n",
      "cpu_type : i7\n",
      "ram_capacity : 8\n",
      "hdd_capacity : 0\n",
      "ssd_capacity : 180\n",
      "title : lenovo thinkpad x1 carbon 3460 - 14 - core i7 3667u - windows 8 pro 64-bit - 8 gb ram - 180 gb ssd - vology\n",
      "screen_size : 14\n",
      "model : thinkpad x1\n",
      "\n",
      "2161/10 positive, 56501/10 negative\n",
      "Do these records refer to the same thing?\n",
      "(y)es / (n)o / (u)nsure / (f)inished / (p)revious\n",
      "(y)es / (n)o / (u)nsure / (f)inished / (p)revious\n"
     ]
    },
    {
     "name": "stdout",
     "output_type": "stream",
     "text": [
      "starting active labeling...\n"
     ]
    },
    {
     "ename": "KeyboardInterrupt",
     "evalue": "",
     "output_type": "error",
     "traceback": [
      "\u001B[1;31m---------------------------------------------------------------------------\u001B[0m",
      "\u001B[1;31mKeyboardInterrupt\u001B[0m                         Traceback (most recent call last)",
      "\u001B[1;32md:\\coding projects\\sigmod\\venv\\lib\\site-packages\\rlr\\lr.py\u001B[0m in \u001B[0;36mloss\u001B[1;34m(x0, g, X, y, case_weights, alpha)\u001B[0m\n\u001B[0;32m     71\u001B[0m     \u001B[0mout\u001B[0m \u001B[1;33m=\u001B[0m \u001B[0mout\u001B[0m\u001B[1;33m.\u001B[0m\u001B[0msum\u001B[0m\u001B[1;33m(\u001B[0m\u001B[1;33m)\u001B[0m \u001B[1;33m+\u001B[0m \u001B[1;36m.5\u001B[0m \u001B[1;33m*\u001B[0m \u001B[0malpha\u001B[0m \u001B[1;33m*\u001B[0m \u001B[0mw\u001B[0m\u001B[1;33m.\u001B[0m\u001B[0mdot\u001B[0m\u001B[1;33m(\u001B[0m\u001B[0mw\u001B[0m\u001B[1;33m)\u001B[0m\u001B[1;33m\u001B[0m\u001B[1;33m\u001B[0m\u001B[0m\n\u001B[0;32m     72\u001B[0m \u001B[1;33m\u001B[0m\u001B[0m\n\u001B[1;32m---> 73\u001B[1;33m     \u001B[0mg\u001B[0m\u001B[1;33m[\u001B[0m\u001B[1;33m:\u001B[0m\u001B[1;33m]\u001B[0m \u001B[1;33m=\u001B[0m \u001B[0mgradient\u001B[0m\u001B[1;33m(\u001B[0m\u001B[0mx0\u001B[0m\u001B[1;33m,\u001B[0m \u001B[0mX\u001B[0m\u001B[1;33m,\u001B[0m \u001B[0my\u001B[0m\u001B[1;33m,\u001B[0m \u001B[0mcase_weights\u001B[0m\u001B[1;33m,\u001B[0m \u001B[0malpha\u001B[0m\u001B[1;33m)\u001B[0m\u001B[1;33m\u001B[0m\u001B[1;33m\u001B[0m\u001B[0m\n\u001B[0m\u001B[0;32m     74\u001B[0m \u001B[1;33m\u001B[0m\u001B[0m\n\u001B[0;32m     75\u001B[0m     \u001B[1;32mreturn\u001B[0m \u001B[0mout\u001B[0m\u001B[1;33m\u001B[0m\u001B[1;33m\u001B[0m\u001B[0m\n",
      "\u001B[1;32md:\\coding projects\\sigmod\\venv\\lib\\site-packages\\rlr\\lr.py\u001B[0m in \u001B[0;36mgradient\u001B[1;34m(x0, X, y, case_weights, alpha)\u001B[0m\n\u001B[0;32m     84\u001B[0m     \u001B[0mz0\u001B[0m \u001B[1;33m=\u001B[0m \u001B[1;33m(\u001B[0m\u001B[0mz\u001B[0m \u001B[1;33m-\u001B[0m \u001B[1;36m1\u001B[0m\u001B[1;33m)\u001B[0m \u001B[1;33m*\u001B[0m \u001B[0my\u001B[0m \u001B[1;33m*\u001B[0m \u001B[0mcase_weights\u001B[0m\u001B[1;33m\u001B[0m\u001B[1;33m\u001B[0m\u001B[0m\n\u001B[0;32m     85\u001B[0m     \u001B[0mgrad_w\u001B[0m \u001B[1;33m=\u001B[0m \u001B[0mX\u001B[0m\u001B[1;33m.\u001B[0m\u001B[0mT\u001B[0m\u001B[1;33m.\u001B[0m\u001B[0mdot\u001B[0m\u001B[1;33m(\u001B[0m\u001B[0mz0\u001B[0m\u001B[1;33m)\u001B[0m \u001B[1;33m+\u001B[0m \u001B[0malpha\u001B[0m \u001B[1;33m*\u001B[0m \u001B[0mw\u001B[0m\u001B[1;33m\u001B[0m\u001B[1;33m\u001B[0m\u001B[0m\n\u001B[1;32m---> 86\u001B[1;33m     \u001B[0mgrad_c\u001B[0m \u001B[1;33m=\u001B[0m \u001B[0mz0\u001B[0m\u001B[1;33m.\u001B[0m\u001B[0msum\u001B[0m\u001B[1;33m(\u001B[0m\u001B[1;33m)\u001B[0m\u001B[1;33m\u001B[0m\u001B[1;33m\u001B[0m\u001B[0m\n\u001B[0m\u001B[0;32m     87\u001B[0m     \u001B[1;32mreturn\u001B[0m \u001B[0mnp\u001B[0m\u001B[1;33m.\u001B[0m\u001B[0mconcatenate\u001B[0m\u001B[1;33m(\u001B[0m\u001B[1;33m(\u001B[0m\u001B[0mgrad_w\u001B[0m\u001B[1;33m,\u001B[0m \u001B[1;33m[\u001B[0m\u001B[0mgrad_c\u001B[0m\u001B[1;33m]\u001B[0m\u001B[1;33m)\u001B[0m\u001B[1;33m)\u001B[0m\u001B[1;33m\u001B[0m\u001B[1;33m\u001B[0m\u001B[0m\n\u001B[0;32m     88\u001B[0m \u001B[1;33m\u001B[0m\u001B[0m\n",
      "\u001B[1;32md:\\coding projects\\sigmod\\venv\\lib\\site-packages\\numpy\\core\\_methods.py\u001B[0m in \u001B[0;36m_sum\u001B[1;34m(a, axis, dtype, out, keepdims, initial, where)\u001B[0m\n\u001B[0;32m     45\u001B[0m def _sum(a, axis=None, dtype=None, out=None, keepdims=False,\n\u001B[0;32m     46\u001B[0m          initial=_NoValue, where=True):\n\u001B[1;32m---> 47\u001B[1;33m     \u001B[1;32mreturn\u001B[0m \u001B[0mumr_sum\u001B[0m\u001B[1;33m(\u001B[0m\u001B[0ma\u001B[0m\u001B[1;33m,\u001B[0m \u001B[0maxis\u001B[0m\u001B[1;33m,\u001B[0m \u001B[0mdtype\u001B[0m\u001B[1;33m,\u001B[0m \u001B[0mout\u001B[0m\u001B[1;33m,\u001B[0m \u001B[0mkeepdims\u001B[0m\u001B[1;33m,\u001B[0m \u001B[0minitial\u001B[0m\u001B[1;33m,\u001B[0m \u001B[0mwhere\u001B[0m\u001B[1;33m)\u001B[0m\u001B[1;33m\u001B[0m\u001B[1;33m\u001B[0m\u001B[0m\n\u001B[0m\u001B[0;32m     48\u001B[0m \u001B[1;33m\u001B[0m\u001B[0m\n\u001B[0;32m     49\u001B[0m def _prod(a, axis=None, dtype=None, out=None, keepdims=False,\n",
      "\u001B[1;31mKeyboardInterrupt\u001B[0m: "
     ]
    },
    {
     "ename": "KeyboardInterrupt",
     "evalue": "",
     "output_type": "error",
     "traceback": [
      "\u001B[1;31m---------------------------------------------------------------------------\u001B[0m",
      "\u001B[1;31mKeyboardInterrupt\u001B[0m                         Traceback (most recent call last)",
      "\u001B[1;32m<ipython-input-45-8504d3c667d4>\u001B[0m in \u001B[0;36m<module>\u001B[1;34m\u001B[0m\n\u001B[0;32m      1\u001B[0m \u001B[0mprint\u001B[0m\u001B[1;33m(\u001B[0m\u001B[1;34m'starting active labeling...'\u001B[0m\u001B[1;33m)\u001B[0m\u001B[1;33m\u001B[0m\u001B[1;33m\u001B[0m\u001B[0m\n\u001B[1;32m----> 2\u001B[1;33m \u001B[0mdedupe\u001B[0m\u001B[1;33m.\u001B[0m\u001B[0mconsole_label\u001B[0m\u001B[1;33m(\u001B[0m\u001B[0mdeduper\u001B[0m\u001B[1;33m)\u001B[0m\u001B[1;33m\u001B[0m\u001B[1;33m\u001B[0m\u001B[0m\n\u001B[0m\u001B[0;32m      3\u001B[0m \u001B[1;33m\u001B[0m\u001B[0m\n",
      "\u001B[1;32md:\\coding projects\\sigmod\\venv\\lib\\site-packages\\dedupe\\convenience.py\u001B[0m in \u001B[0;36mconsole_label\u001B[1;34m(deduper)\u001B[0m\n\u001B[0;32m     99\u001B[0m                             'match': []}\n\u001B[0;32m    100\u001B[0m                 \u001B[0mexamples\u001B[0m\u001B[1;33m[\u001B[0m\u001B[0mlabel\u001B[0m\u001B[1;33m]\u001B[0m\u001B[1;33m.\u001B[0m\u001B[0mappend\u001B[0m\u001B[1;33m(\u001B[0m\u001B[0mrecord_pair\u001B[0m\u001B[1;33m)\u001B[0m  \u001B[1;31m# type: ignore\u001B[0m\u001B[1;33m\u001B[0m\u001B[1;33m\u001B[0m\u001B[0m\n\u001B[1;32m--> 101\u001B[1;33m                 \u001B[0mdeduper\u001B[0m\u001B[1;33m.\u001B[0m\u001B[0mmark_pairs\u001B[0m\u001B[1;33m(\u001B[0m\u001B[0mexamples\u001B[0m\u001B[1;33m)\u001B[0m\u001B[1;33m\u001B[0m\u001B[1;33m\u001B[0m\u001B[0m\n\u001B[0m\u001B[0;32m    102\u001B[0m \u001B[1;33m\u001B[0m\u001B[0m\n\u001B[0;32m    103\u001B[0m     \u001B[1;32mfor\u001B[0m \u001B[0mrecord_pair\u001B[0m\u001B[1;33m,\u001B[0m \u001B[0mlabel\u001B[0m \u001B[1;32min\u001B[0m \u001B[0mexamples_buffer\u001B[0m\u001B[1;33m:\u001B[0m\u001B[1;33m\u001B[0m\u001B[1;33m\u001B[0m\u001B[0m\n",
      "\u001B[1;32md:\\coding projects\\sigmod\\venv\\lib\\site-packages\\dedupe\\api.py\u001B[0m in \u001B[0;36mmark_pairs\u001B[1;34m(self, labeled_pairs)\u001B[0m\n\u001B[0;32m   1146\u001B[0m         \u001B[1;32mif\u001B[0m \u001B[0mself\u001B[0m\u001B[1;33m.\u001B[0m\u001B[0mactive_learner\u001B[0m\u001B[1;33m:\u001B[0m\u001B[1;33m\u001B[0m\u001B[1;33m\u001B[0m\u001B[0m\n\u001B[0;32m   1147\u001B[0m             \u001B[0mexamples\u001B[0m\u001B[1;33m,\u001B[0m \u001B[0my\u001B[0m \u001B[1;33m=\u001B[0m \u001B[0mflatten_training\u001B[0m\u001B[1;33m(\u001B[0m\u001B[0mlabeled_pairs\u001B[0m\u001B[1;33m)\u001B[0m\u001B[1;33m\u001B[0m\u001B[1;33m\u001B[0m\u001B[0m\n\u001B[1;32m-> 1148\u001B[1;33m             \u001B[0mself\u001B[0m\u001B[1;33m.\u001B[0m\u001B[0mactive_learner\u001B[0m\u001B[1;33m.\u001B[0m\u001B[0mmark\u001B[0m\u001B[1;33m(\u001B[0m\u001B[0mexamples\u001B[0m\u001B[1;33m,\u001B[0m \u001B[0my\u001B[0m\u001B[1;33m)\u001B[0m\u001B[1;33m\u001B[0m\u001B[1;33m\u001B[0m\u001B[0m\n\u001B[0m\u001B[0;32m   1149\u001B[0m \u001B[1;33m\u001B[0m\u001B[0m\n\u001B[0;32m   1150\u001B[0m     \u001B[1;32mdef\u001B[0m \u001B[0m_checkTrainingPairs\u001B[0m\u001B[1;33m(\u001B[0m\u001B[0mself\u001B[0m\u001B[1;33m,\u001B[0m \u001B[0mlabeled_pairs\u001B[0m\u001B[1;33m:\u001B[0m \u001B[0mTrainingData\u001B[0m\u001B[1;33m)\u001B[0m \u001B[1;33m->\u001B[0m \u001B[1;32mNone\u001B[0m\u001B[1;33m:\u001B[0m\u001B[1;33m\u001B[0m\u001B[1;33m\u001B[0m\u001B[0m\n",
      "\u001B[1;32md:\\coding projects\\sigmod\\venv\\lib\\site-packages\\dedupe\\labeler.py\u001B[0m in \u001B[0;36mmark\u001B[1;34m(self, pairs, y)\u001B[0m\n\u001B[0;32m    377\u001B[0m \u001B[1;33m\u001B[0m\u001B[0m\n\u001B[0;32m    378\u001B[0m         \u001B[1;32mfor\u001B[0m \u001B[0mlearner\u001B[0m \u001B[1;32min\u001B[0m \u001B[0mself\u001B[0m\u001B[1;33m.\u001B[0m\u001B[0mlearners\u001B[0m\u001B[1;33m:\u001B[0m\u001B[1;33m\u001B[0m\u001B[1;33m\u001B[0m\u001B[0m\n\u001B[1;32m--> 379\u001B[1;33m             \u001B[0mlearner\u001B[0m\u001B[1;33m.\u001B[0m\u001B[0mfit_transform\u001B[0m\u001B[1;33m(\u001B[0m\u001B[0mself\u001B[0m\u001B[1;33m.\u001B[0m\u001B[0mpairs\u001B[0m\u001B[1;33m,\u001B[0m \u001B[0mself\u001B[0m\u001B[1;33m.\u001B[0m\u001B[0my\u001B[0m\u001B[1;33m)\u001B[0m\u001B[1;33m\u001B[0m\u001B[1;33m\u001B[0m\u001B[0m\n\u001B[0m\u001B[0;32m    380\u001B[0m \u001B[1;33m\u001B[0m\u001B[0m\n\u001B[0;32m    381\u001B[0m     \u001B[1;32mdef\u001B[0m \u001B[0m__len__\u001B[0m\u001B[1;33m(\u001B[0m\u001B[0mself\u001B[0m\u001B[1;33m)\u001B[0m\u001B[1;33m:\u001B[0m\u001B[1;33m\u001B[0m\u001B[1;33m\u001B[0m\u001B[0m\n",
      "\u001B[1;32md:\\coding projects\\sigmod\\venv\\lib\\site-packages\\dedupe\\labeler.py\u001B[0m in \u001B[0;36mfit_transform\u001B[1;34m(self, pairs, y)\u001B[0m\n\u001B[0;32m    123\u001B[0m \u001B[1;33m\u001B[0m\u001B[0m\n\u001B[0;32m    124\u001B[0m     \u001B[1;32mdef\u001B[0m \u001B[0mfit_transform\u001B[0m\u001B[1;33m(\u001B[0m\u001B[0mself\u001B[0m\u001B[1;33m,\u001B[0m \u001B[0mpairs\u001B[0m\u001B[1;33m,\u001B[0m \u001B[0my\u001B[0m\u001B[1;33m)\u001B[0m\u001B[1;33m:\u001B[0m\u001B[1;33m\u001B[0m\u001B[1;33m\u001B[0m\u001B[0m\n\u001B[1;32m--> 125\u001B[1;33m         \u001B[0mself\u001B[0m\u001B[1;33m.\u001B[0m\u001B[0mfit\u001B[0m\u001B[1;33m(\u001B[0m\u001B[0mself\u001B[0m\u001B[1;33m.\u001B[0m\u001B[0mtransform\u001B[0m\u001B[1;33m(\u001B[0m\u001B[0mpairs\u001B[0m\u001B[1;33m)\u001B[0m\u001B[1;33m,\u001B[0m \u001B[0my\u001B[0m\u001B[1;33m)\u001B[0m\u001B[1;33m\u001B[0m\u001B[1;33m\u001B[0m\u001B[0m\n\u001B[0m\u001B[0;32m    126\u001B[0m \u001B[1;33m\u001B[0m\u001B[0m\n\u001B[0;32m    127\u001B[0m     \u001B[1;32mdef\u001B[0m \u001B[0mpop\u001B[0m\u001B[1;33m(\u001B[0m\u001B[0mself\u001B[0m\u001B[1;33m)\u001B[0m \u001B[1;33m->\u001B[0m \u001B[0mTrainingExample\u001B[0m\u001B[1;33m:\u001B[0m\u001B[1;33m\u001B[0m\u001B[1;33m\u001B[0m\u001B[0m\n",
      "\u001B[1;32md:\\coding projects\\sigmod\\venv\\lib\\site-packages\\dedupe\\labeler.py\u001B[0m in \u001B[0;36mtransform\u001B[1;34m(self, pairs)\u001B[0m\n\u001B[0;32m    113\u001B[0m \u001B[1;33m\u001B[0m\u001B[0m\n\u001B[0;32m    114\u001B[0m     \u001B[1;32mdef\u001B[0m \u001B[0mtransform\u001B[0m\u001B[1;33m(\u001B[0m\u001B[0mself\u001B[0m\u001B[1;33m,\u001B[0m \u001B[0mpairs\u001B[0m\u001B[1;33m)\u001B[0m\u001B[1;33m:\u001B[0m\u001B[1;33m\u001B[0m\u001B[1;33m\u001B[0m\u001B[0m\n\u001B[1;32m--> 115\u001B[1;33m         \u001B[1;32mreturn\u001B[0m \u001B[0mself\u001B[0m\u001B[1;33m.\u001B[0m\u001B[0mdata_model\u001B[0m\u001B[1;33m.\u001B[0m\u001B[0mdistances\u001B[0m\u001B[1;33m(\u001B[0m\u001B[0mpairs\u001B[0m\u001B[1;33m)\u001B[0m\u001B[1;33m\u001B[0m\u001B[1;33m\u001B[0m\u001B[0m\n\u001B[0m\u001B[0;32m    116\u001B[0m \u001B[1;33m\u001B[0m\u001B[0m\n\u001B[0;32m    117\u001B[0m     \u001B[1;32mdef\u001B[0m \u001B[0mfit\u001B[0m\u001B[1;33m(\u001B[0m\u001B[0mself\u001B[0m\u001B[1;33m,\u001B[0m \u001B[0mX\u001B[0m\u001B[1;33m,\u001B[0m \u001B[0my\u001B[0m\u001B[1;33m)\u001B[0m\u001B[1;33m:\u001B[0m\u001B[1;33m\u001B[0m\u001B[1;33m\u001B[0m\u001B[0m\n",
      "\u001B[1;32md:\\coding projects\\sigmod\\venv\\lib\\site-packages\\dedupe\\datamodel.py\u001B[0m in \u001B[0;36mdistances\u001B[1;34m(self, record_pairs)\u001B[0m\n\u001B[0;32m     82\u001B[0m             \u001B[1;32mfor\u001B[0m \u001B[0mfield\u001B[0m\u001B[1;33m,\u001B[0m \u001B[0mcompare\u001B[0m\u001B[1;33m,\u001B[0m \u001B[0mstart\u001B[0m\u001B[1;33m,\u001B[0m \u001B[0mstop\u001B[0m \u001B[1;32min\u001B[0m \u001B[0mfield_comparators\u001B[0m\u001B[1;33m:\u001B[0m\u001B[1;33m\u001B[0m\u001B[1;33m\u001B[0m\u001B[0m\n\u001B[0;32m     83\u001B[0m                 \u001B[1;32mif\u001B[0m \u001B[0mrecord_1\u001B[0m\u001B[1;33m[\u001B[0m\u001B[0mfield\u001B[0m\u001B[1;33m]\u001B[0m \u001B[1;32mis\u001B[0m \u001B[1;32mnot\u001B[0m \u001B[1;32mNone\u001B[0m \u001B[1;32mand\u001B[0m \u001B[0mrecord_2\u001B[0m\u001B[1;33m[\u001B[0m\u001B[0mfield\u001B[0m\u001B[1;33m]\u001B[0m \u001B[1;32mis\u001B[0m \u001B[1;32mnot\u001B[0m \u001B[1;32mNone\u001B[0m\u001B[1;33m:\u001B[0m\u001B[1;33m\u001B[0m\u001B[1;33m\u001B[0m\u001B[0m\n\u001B[1;32m---> 84\u001B[1;33m                     distances[i, start:stop] = compare(record_1[field],\n\u001B[0m\u001B[0;32m     85\u001B[0m                                                        record_2[field])\n\u001B[0;32m     86\u001B[0m                 \u001B[1;32melif\u001B[0m \u001B[0mhasattr\u001B[0m\u001B[1;33m(\u001B[0m\u001B[0mcompare\u001B[0m\u001B[1;33m,\u001B[0m \u001B[1;34m'missing'\u001B[0m\u001B[1;33m)\u001B[0m\u001B[1;33m:\u001B[0m\u001B[1;33m\u001B[0m\u001B[1;33m\u001B[0m\u001B[0m\n",
      "\u001B[1;31mKeyboardInterrupt\u001B[0m: "
     ]
    }
   ],
   "source": [
    "print('starting active labeling...')\n",
    "dedupe.console_label(deduper)"
   ]
  },
  {
   "cell_type": "code",
   "execution_count": null,
   "metadata": {},
   "outputs": [],
   "source": [
    "with open('y_laptop_augmented.json', 'w') as fout:\n",
    "    json.dump(deduper.training_pairs, fout)"
   ]
  },
  {
   "cell_type": "code",
   "execution_count": null,
   "metadata": {},
   "outputs": [],
   "source": [
    "deduper.train(recall=0.9)"
   ]
  },
  {
   "cell_type": "code",
   "execution_count": null,
   "metadata": {},
   "outputs": [],
   "source": [
    "training_file = 'trained_model_laptops.json'\n",
    "settings_file = 'trained_model_laptops_settings.json'\n",
    "with open(training_file, 'w') as tf:\n",
    "    deduper.write_training(tf)\n",
    "with open(settings_file, 'wb') as sf:\n",
    "    deduper.write_settings(sf)"
   ]
  },
  {
   "cell_type": "code",
   "execution_count": null,
   "metadata": {},
   "outputs": [],
   "source": [
    "clustered_dupes = deduper.partition(to_dedupe_dict, 0.5)\n",
    "\n",
    "print('# duplicate sets', len(clustered_dupes))"
   ]
  },
  {
   "cell_type": "code",
   "execution_count": null,
   "metadata": {},
   "outputs": [],
   "source": [
    "deduper.predicates"
   ]
  },
  {
   "cell_type": "code",
   "execution_count": null,
   "metadata": {},
   "outputs": [],
   "source": [
    "clustered_dupes"
   ]
  },
  {
   "cell_type": "code",
   "execution_count": null,
   "metadata": {},
   "outputs": [],
   "source": [
    "cluster_membership = {}\n",
    "for cluster_id, (records, scores) in enumerate(clustered_dupes):\n",
    "    for record_id, score in zip(records, scores):\n",
    "        cluster_membership[record_id] = {\n",
    "            \"Cluster ID\": cluster_id,\n",
    "            \"confidence_score\": score\n",
    "        }"
   ]
  },
  {
   "cell_type": "code",
   "execution_count": null,
   "metadata": {},
   "outputs": [],
   "source": [
    "cluster_membership"
   ]
  },
  {
   "cell_type": "code",
   "execution_count": null,
   "metadata": {},
   "outputs": [],
   "source": [
    "def laptop_test(x):\n",
    "    x.set_index('instance_id',  inplace=True, drop=False)\n",
    "    x = preprocess_laptop_dataset(x.copy(deep=True))\n",
    "    \n",
    "    to_dedupe = x[[ 'instance_id',\n",
    "    'brand',\n",
    "    'cpu_brand',\n",
    "    'cpu_type',\n",
    "    'ram_capacity',\n",
    "    'hdd_capacity', \n",
    "    'ssd_capacity',\n",
    "    'title',\n",
    "    'screen_size',\n",
    "    'model']].copy()\n",
    "    \n",
    "    with open('trained_model_laptops_settings.json', 'rb') as fin:\n",
    "        dr = dedupe.StaticDedupe(fin)\n",
    "    to_dedupe_dict = to_dedupe.to_dict(orient = 'index')\n",
    "    \n",
    "    clustered_dupes = dr.partition(to_dedupe_dict, 0.5)\n",
    "\n",
    "    print('# duplicate sets', len(clustered_dupes))\n",
    "    \n",
    "    res = []\n",
    "    for el in clustered_dupes:\n",
    "        for i in range(len(el[0])):\n",
    "            for j in range(i+1, len(el[0])):\n",
    "                res.append((el[0][i], el[0][j]))\n",
    "    res_df =pd.DataFrame(res)            \n",
    "#     res_df.columns = ['left_instance_id', 'right_instance_id']\n",
    "    res_df.columns = ['left_instance_id', 'right_instance_id']\n",
    "    return res_df"
   ]
  },
  {
   "cell_type": "code",
   "execution_count": null,
   "metadata": {},
   "outputs": [],
   "source": [
    "x2 = pd.read_csv(\"../data/sigmod/X2.csv\")\n",
    "res = laptop_test(x2)"
   ]
  },
  {
   "cell_type": "code",
   "execution_count": null,
   "metadata": {},
   "outputs": [],
   "source": [
    "x3 = pd.read_csv(\"../data/sigmod/X3.csv\")\n",
    "res = laptop_test(x3)"
   ]
  },
  {
   "cell_type": "code",
   "execution_count": null,
   "metadata": {},
   "outputs": [],
   "source": [
    "len(res)"
   ]
  },
  {
   "cell_type": "code",
   "execution_count": null,
   "metadata": {},
   "outputs": [],
   "source": [
    "res"
   ]
  },
  {
   "cell_type": "code",
   "execution_count": null,
   "metadata": {},
   "outputs": [],
   "source": [
    "res.to_csv(\"output_x2.csv\", index=False)"
   ]
  },
  {
   "cell_type": "code",
   "execution_count": null,
   "metadata": {},
   "outputs": [],
   "source": [
    "deduper.predicates"
   ]
  },
  {
   "cell_type": "code",
   "execution_count": null,
   "metadata": {},
   "outputs": [],
   "source": [
    "deduper.data_model.predicates"
   ]
  },
  {
   "cell_type": "code",
   "execution_count": null,
   "metadata": {},
   "outputs": [],
   "source": []
  }
 ],
 "metadata": {
  "kernelspec": {
   "display_name": "Python 3",
   "language": "python",
   "name": "python3"
  },
  "language_info": {
   "codemirror_mode": {
    "name": "ipython",
    "version": 3
   },
   "file_extension": ".py",
   "mimetype": "text/x-python",
   "name": "python",
   "nbconvert_exporter": "python",
   "pygments_lexer": "ipython3",
   "version": "3.8.3"
  }
 },
 "nbformat": 4,
 "nbformat_minor": 1
}